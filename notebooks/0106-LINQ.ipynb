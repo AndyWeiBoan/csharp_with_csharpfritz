{
 "cells": [
  {
   "cell_type": "markdown",
   "metadata": {},
   "source": [
    "# Session 6: LINQ and Extension Methods\n",
    "\n",
    "<img align=\"right\" width=\"150\" height=\"113\" src=\"img/csharp_savetheday.png\">\n",
    "\n",
    "[LINQ (Language Integrated Query)](https://docs.microsoft.com/en-us/dotnet/csharp/programming-guide/concepts/linq/?WT.mc_id=visualstudio-twitch-jefritz) is a collection of methods and language features that allow you to interact with collections of data.  In our last session, we focused on **LINQ to Objects** which allows us to use method predicates to interact with those collections.\n",
    "\n",
    "Let's setup our `Card` class and `FritzSet` collection object to work with again in this workbook"
   ]
  },
  {
   "cell_type": "code",
   "execution_count": 1,
   "metadata": {
    "jupyter": {
     "source_hidden": true
    }
   },
   "outputs": [
    {
     "data": {
      "text/html": [
       "\r\n",
       "<div>\r\n",
       "    <div id='dotnet-interactive-this-cell-30288.7b502d53712f4c9684ca4ccb3d92a411' style='display: none'>\r\n",
       "        The below script needs to be able to find the current output cell; this is an easy method to get it.\r\n",
       "    </div>\r\n",
       "    <script type='text/javascript'>\r\n",
       "// ensure `require` is available globally\r\n",
       "if (typeof require !== typeof Function || typeof require.config !== typeof Function) {\r\n",
       "    let require_script = document.createElement('script');\r\n",
       "    require_script.setAttribute('src', 'https://cdnjs.cloudflare.com/ajax/libs/require.js/2.3.6/require.min.js');\r\n",
       "    require_script.setAttribute('type', 'text/javascript');\r\n",
       "    require_script.onload = function () {\r\n",
       "        loadDotnetInteractiveApi();\r\n",
       "    };\r\n",
       "\r\n",
       "    document.getElementsByTagName('head')[0].appendChild(require_script);\r\n",
       "}\r\n",
       "else {\r\n",
       "    loadDotnetInteractiveApi();\r\n",
       "}\r\n",
       "\r\n",
       "async function probeAddresses(probingAddresses) {\r\n",
       "    function timeout(ms, promise) {\r\n",
       "        return new Promise(function (resolve, reject) {\r\n",
       "            setTimeout(function () {\r\n",
       "                reject(new Error('timeout'))\r\n",
       "            }, ms)\r\n",
       "            promise.then(resolve, reject)\r\n",
       "        })\r\n",
       "    }\r\n",
       "\r\n",
       "    if (Array.isArray(probingAddresses)) {\r\n",
       "        for (let i = 0; i < probingAddresses.length; i++) {\r\n",
       "\r\n",
       "            let rootUrl = probingAddresses[i];\r\n",
       "\r\n",
       "            if (!rootUrl.endsWith('/')) {\r\n",
       "                rootUrl = `${rootUrl}/`;\r\n",
       "            }\r\n",
       "\r\n",
       "            try {\r\n",
       "                let response = await timeout(1000, fetch(`${rootUrl}discovery`, {\r\n",
       "                    method: 'POST',\r\n",
       "                    cache: 'no-cache',\r\n",
       "                    mode: 'cors',\r\n",
       "                    timeout: 1000,\r\n",
       "                    headers: {\r\n",
       "                        'Content-Type': 'text/plain'\r\n",
       "                    },\r\n",
       "                    body: probingAddresses[i]\r\n",
       "                }));\r\n",
       "\r\n",
       "                if (response.status == 200) {\r\n",
       "                    return rootUrl;\r\n",
       "                }\r\n",
       "            }\r\n",
       "            catch (e) { }\r\n",
       "        }\r\n",
       "    }\r\n",
       "}\r\n",
       "\r\n",
       "function loadDotnetInteractiveApi() {\r\n",
       "    probeAddresses([\"http://172.22.192.1:1001/\", \"http://192.168.1.71:1001/\", \"http://127.0.0.1:1001/\"])\r\n",
       "        .then((root) => {\r\n",
       "            // use probing to find host url and api resources\r\n",
       "            // load interactive helpers and language services\r\n",
       "            let dotnetInteractiveRequire = require.config({\r\n",
       "                context: '30288.7b502d53712f4c9684ca4ccb3d92a411',\r\n",
       "                paths: {\r\n",
       "                    'dotnet-interactive': `${root}resources`\r\n",
       "                }\r\n",
       "            }) || require;\r\n",
       "\r\n",
       "            let dotnetInteractiveExtensionsRequire = require.config({\r\n",
       "                context: '30288.7b502d53712f4c9684ca4ccb3d92a411',\r\n",
       "                paths: {\r\n",
       "                    'dotnet-interactive-extensions': `${root}extensions`\r\n",
       "                }\r\n",
       "            }) || require;\r\n",
       "\r\n",
       "            if (!window.dotnetInteractiveRequire) {\r\n",
       "                window.dotnetInteractiveRequire = dotnetInteractiveRequire;\r\n",
       "            }\r\n",
       "\r\n",
       "            if (!window.dotnetInteractiveExtensionsRequire) {\r\n",
       "                window.dotnetInteractiveExtensionsRequire = dotnetInteractiveExtensionsRequire;\r\n",
       "            }\r\n",
       "\r\n",
       "            window.getExtensionRequire = function(extensionName, extensionCacheBuster) {\r\n",
       "                let paths = {};\r\n",
       "                paths[extensionName] = `${root}extensions/${extensionName}/resources/`;\r\n",
       "                \r\n",
       "                let internalRequire = require.config({\r\n",
       "                    context: extensionCacheBuster,\r\n",
       "                    paths: paths,\r\n",
       "                    urlArgs: `cacheBuster=${extensionCacheBuster}`\r\n",
       "                    }) || require;\r\n",
       "\r\n",
       "                return internalRequire\r\n",
       "            };\r\n",
       "        \r\n",
       "            dotnetInteractiveRequire([\r\n",
       "                    'dotnet-interactive/dotnet-interactive'\r\n",
       "                ],\r\n",
       "                function (dotnet) {\r\n",
       "                    dotnet.init(window);\r\n",
       "                },\r\n",
       "                function (error) {\r\n",
       "                    console.log(error);\r\n",
       "                }\r\n",
       "            );\r\n",
       "        })\r\n",
       "        .catch(error => {console.log(error);});\r\n",
       "    }\r\n",
       "    </script>\r\n",
       "</div>"
      ]
     },
     "metadata": {},
     "output_type": "display_data"
    }
   ],
   "source": [
    "class Card {\n",
    "    public Card(string def) {\n",
    "        var values = def.Split('-');\n",
    "        Rank = values[0];\n",
    "        Suit = values[1];\n",
    "    }\n",
    "    public string Rank;\n",
    "    public int RankValue { \n",
    "        get { \n",
    "            var faceCards = new Dictionary<string,int> { {\"J\", 11}, {\"Q\", 12}, {\"K\", 13}, {\"A\", 14} };\n",
    "            return faceCards.ContainsKey(Rank) ? faceCards[Rank] : int.Parse(Rank); \n",
    "        }\n",
    "    }\n",
    "    public string Suit;\n",
    "    public override string ToString() {\n",
    "        return $\"{Rank}-{Suit}\";\n",
    "    }\n",
    "    public static implicit operator Card(string id) {\n",
    "        return new Card(id);\n",
    "    }\n",
    "}\n",
    "\n",
    "class FritzSet<T> : IEnumerable<T> {\n",
    "\n",
    "    private List<T> _Inner = new List<T>();\n",
    "\n",
    "    public IEnumerator<T> GetEnumerator()\n",
    "    {\n",
    "        return _Inner.GetEnumerator();\n",
    "    }\n",
    "\n",
    "    IEnumerator IEnumerable.GetEnumerator()\n",
    "    {\n",
    "        return _Inner.GetEnumerator();\n",
    "    }\n",
    "\n",
    "    public void Add(T newItem) {\n",
    "        var insertAt = _Inner.Count == 0 ? 0 : new Random().Next(0,_Inner.Count+1);\n",
    "        _Inner.Insert(insertAt, newItem);\n",
    "    }\n",
    "    \n",
    "    public FritzSet<T> Shuffle() {\n",
    "        _Inner = _Inner.OrderBy(_ => Guid.NewGuid()).ToList();\n",
    "        return this;\n",
    "    }\n",
    "    \n",
    "}\n",
    "\n",
    "var TheDeck = new FritzSet<Card>();\n",
    "TheDeck.Add(\"A-c\");TheDeck.Add(\"A-d\");TheDeck.Add(\"A-h\");TheDeck.Add(\"A-s\");TheDeck.Add(\"2-c\");TheDeck.Add(\"2-d\");TheDeck.Add(\"2-h\");TheDeck.Add(\"2-s\");TheDeck.Add(\"3-c\");TheDeck.Add(\"3-d\");TheDeck.Add(\"3-h\");TheDeck.Add(\"3-s\");TheDeck.Add(\"4-c\");TheDeck.Add(\"4-d\");TheDeck.Add(\"4-h\");TheDeck.Add(\"4-s\");\n",
    "TheDeck.Add(\"5-c\");TheDeck.Add(\"5-d\");TheDeck.Add(\"5-h\");TheDeck.Add(\"5-s\");TheDeck.Add(\"6-c\");TheDeck.Add(\"6-d\");TheDeck.Add(\"6-h\");TheDeck.Add(\"6-s\");TheDeck.Add(\"7-c\");TheDeck.Add(\"7-d\");TheDeck.Add(\"7-h\");TheDeck.Add(\"7-s\");TheDeck.Add(\"8-c\");TheDeck.Add(\"8-d\");TheDeck.Add(\"8-h\");TheDeck.Add(\"8-s\");\n",
    "TheDeck.Add(\"9-c\");TheDeck.Add(\"9-d\");TheDeck.Add(\"9-h\");TheDeck.Add(\"9-s\");TheDeck.Add(\"10-c\");TheDeck.Add(\"10-d\");TheDeck.Add(\"10-h\");TheDeck.Add(\"10-s\");TheDeck.Add(\"J-c\");TheDeck.Add(\"J-d\");TheDeck.Add(\"J-h\");TheDeck.Add(\"J-s\");\n",
    "TheDeck.Add(\"Q-c\");TheDeck.Add(\"Q-d\");TheDeck.Add(\"Q-h\");TheDeck.Add(\"Q-s\");TheDeck.Add(\"K-c\");TheDeck.Add(\"K-d\");TheDeck.Add(\"K-h\");TheDeck.Add(\"K-s\");\n",
    "\n",
    "// TheDeck\n",
    "TheDeck.Shuffle().Shuffle().Shuffle().Shuffle().Shuffle();\n",
    "//TheDeck"
   ]
  },
  {
   "cell_type": "markdown",
   "metadata": {},
   "source": [
    "In review, we can write a little bit of code to work with this collection to deal cards appropriately for a Texas Hold 'em poker game:"
   ]
  },
  {
   "cell_type": "code",
   "execution_count": 2,
   "metadata": {},
   "outputs": [
    {
     "data": {
      "text/plain": [
       "Hand 1"
      ]
     },
     "metadata": {},
     "output_type": "display_data"
    },
    {
     "data": {
      "text/html": [
       "<table><thead><tr><th><i>index</i></th><th>RankValue</th><th>Rank</th><th>Suit</th></tr></thead><tbody><tr><td>0</td><td><div class=\"dni-plaintext\">5</div></td><td><div class=\"dni-plaintext\">5</div></td><td><div class=\"dni-plaintext\">c</div></td></tr><tr><td>1</td><td><div class=\"dni-plaintext\">9</div></td><td><div class=\"dni-plaintext\">9</div></td><td><div class=\"dni-plaintext\">c</div></td></tr></tbody></table>"
      ]
     },
     "metadata": {},
     "output_type": "display_data"
    },
    {
     "data": {
      "text/plain": [
       "Hand 2"
      ]
     },
     "metadata": {},
     "output_type": "display_data"
    },
    {
     "data": {
      "text/html": [
       "<table><thead><tr><th><i>index</i></th><th>RankValue</th><th>Rank</th><th>Suit</th></tr></thead><tbody><tr><td>0</td><td><div class=\"dni-plaintext\">10</div></td><td><div class=\"dni-plaintext\">10</div></td><td><div class=\"dni-plaintext\">h</div></td></tr><tr><td>1</td><td><div class=\"dni-plaintext\">12</div></td><td><div class=\"dni-plaintext\">Q</div></td><td><div class=\"dni-plaintext\">h</div></td></tr></tbody></table>"
      ]
     },
     "metadata": {},
     "output_type": "display_data"
    },
    {
     "data": {
      "text/plain": [
       "Hand 2"
      ]
     },
     "metadata": {},
     "output_type": "display_data"
    },
    {
     "data": {
      "text/html": [
       "<table><thead><tr><th><i>index</i></th><th>RankValue</th><th>Rank</th><th>Suit</th></tr></thead><tbody><tr><td>0</td><td><div class=\"dni-plaintext\">6</div></td><td><div class=\"dni-plaintext\">6</div></td><td><div class=\"dni-plaintext\">c</div></td></tr><tr><td>1</td><td><div class=\"dni-plaintext\">12</div></td><td><div class=\"dni-plaintext\">Q</div></td><td><div class=\"dni-plaintext\">d</div></td></tr></tbody></table>"
      ]
     },
     "metadata": {},
     "output_type": "display_data"
    },
    {
     "data": {
      "text/plain": [
       "The Flop"
      ]
     },
     "metadata": {},
     "output_type": "display_data"
    },
    {
     "data": {
      "text/html": [
       "<table><thead><tr><th><i>index</i></th><th>RankValue</th><th>Rank</th><th>Suit</th></tr></thead><tbody><tr><td>0</td><td><div class=\"dni-plaintext\">13</div></td><td><div class=\"dni-plaintext\">K</div></td><td><div class=\"dni-plaintext\">h</div></td></tr><tr><td>1</td><td><div class=\"dni-plaintext\">14</div></td><td><div class=\"dni-plaintext\">A</div></td><td><div class=\"dni-plaintext\">c</div></td></tr><tr><td>2</td><td><div class=\"dni-plaintext\">2</div></td><td><div class=\"dni-plaintext\">2</div></td><td><div class=\"dni-plaintext\">h</div></td></tr></tbody></table>"
      ]
     },
     "metadata": {},
     "output_type": "display_data"
    },
    {
     "data": {
      "text/plain": [
       "The Turn"
      ]
     },
     "metadata": {},
     "output_type": "display_data"
    },
    {
     "data": {
      "text/html": [
       "<table><thead><tr><th>RankValue</th><th>Rank</th><th>Suit</th></tr></thead><tbody><tr><td><div class=\"dni-plaintext\">2</div></td><td><div class=\"dni-plaintext\">2</div></td><td><div class=\"dni-plaintext\">h</div></td></tr></tbody></table>"
      ]
     },
     "metadata": {},
     "output_type": "display_data"
    },
    {
     "data": {
      "text/plain": [
       "The River"
      ]
     },
     "metadata": {},
     "output_type": "display_data"
    },
    {
     "data": {
      "text/html": [
       "<table><thead><tr><th>RankValue</th><th>Rank</th><th>Suit</th></tr></thead><tbody><tr><td><div class=\"dni-plaintext\">7</div></td><td><div class=\"dni-plaintext\">7</div></td><td><div class=\"dni-plaintext\">d</div></td></tr></tbody></table>"
      ]
     },
     "metadata": {},
     "output_type": "display_data"
    }
   ],
   "source": [
    "var ourDeck = TheDeck.Shuffle().Shuffle();\n",
    "\n",
    "var hand1 = new List<Card>();\n",
    "var hand2 = new List<Card>();\n",
    "var hand3 = new List<Card>();\n",
    "hand1.Add(ourDeck.Skip(1).First());\n",
    "hand2.Add(ourDeck.Skip(2).First());\n",
    "hand3.Add(ourDeck.Skip(3).First());\n",
    "hand1.Add(ourDeck.Skip(4).First());\n",
    "hand2.Add(ourDeck.Skip(5).First());\n",
    "hand3.Add(ourDeck.Skip(6).First());\n",
    "\n",
    "display(\"Hand 1\");\n",
    "display(hand1);\n",
    "display(\"Hand 2\");\n",
    "display(hand2);\n",
    "display(\"Hand 2\");\n",
    "display(hand3);\n",
    "\n",
    "// Burn a card and deal the next 3 cards called 'the flop'\n",
    "display(\"The Flop\");\n",
    "display(ourDeck.Skip(8).Take(3));\n",
    "    \n",
    "// Burn a card and take one card called 'the turn'\n",
    "display(\"The Turn\");\n",
    "display(ourDeck.Skip(10).First());\n",
    "\n",
    "// Burn a card and take the final card called 'the river'\n",
    "display(\"The River\");\n",
    "display(ourDeck.Skip(12).First());"
   ]
  },
  {
   "cell_type": "markdown",
   "metadata": {},
   "source": [
    "## Language Integrated Query\n",
    "\n",
    "You can build [expressions](https://docs.microsoft.com/dotnet/csharp/linq/query-expression-basics?WT.mc_id=visualstudio-twitch-jefritz#what-is-a-query-and-what-does-it-do) in the middle of your C# code that _LOOKS_ like SQL turned sideways.  Query Expressions begin with a `from` clause and there's also a mandatory `select` clause to specify the values to return.  By convention, many C# developers who use this syntax align the clauses to the right of the `=` symbol.  Let's dig into that syntax a bit more:"
   ]
  },
  {
   "cell_type": "code",
   "execution_count": 3,
   "metadata": {},
   "outputs": [
    {
     "data": {
      "text/html": [
       "<table><thead><tr><th><i>index</i></th><th>RankValue</th><th>Rank</th><th>Suit</th></tr></thead><tbody><tr><td>0</td><td><div class=\"dni-plaintext\">10</div></td><td><div class=\"dni-plaintext\">10</div></td><td><div class=\"dni-plaintext\">d</div></td></tr><tr><td>1</td><td><div class=\"dni-plaintext\">5</div></td><td><div class=\"dni-plaintext\">5</div></td><td><div class=\"dni-plaintext\">c</div></td></tr><tr><td>2</td><td><div class=\"dni-plaintext\">10</div></td><td><div class=\"dni-plaintext\">10</div></td><td><div class=\"dni-plaintext\">h</div></td></tr><tr><td>3</td><td><div class=\"dni-plaintext\">6</div></td><td><div class=\"dni-plaintext\">6</div></td><td><div class=\"dni-plaintext\">c</div></td></tr><tr><td>4</td><td><div class=\"dni-plaintext\">9</div></td><td><div class=\"dni-plaintext\">9</div></td><td><div class=\"dni-plaintext\">c</div></td></tr><tr><td>5</td><td><div class=\"dni-plaintext\">12</div></td><td><div class=\"dni-plaintext\">Q</div></td><td><div class=\"dni-plaintext\">h</div></td></tr><tr><td>6</td><td><div class=\"dni-plaintext\">12</div></td><td><div class=\"dni-plaintext\">Q</div></td><td><div class=\"dni-plaintext\">d</div></td></tr><tr><td>7</td><td><div class=\"dni-plaintext\">13</div></td><td><div class=\"dni-plaintext\">K</div></td><td><div class=\"dni-plaintext\">c</div></td></tr><tr><td>8</td><td><div class=\"dni-plaintext\">13</div></td><td><div class=\"dni-plaintext\">K</div></td><td><div class=\"dni-plaintext\">h</div></td></tr><tr><td>9</td><td><div class=\"dni-plaintext\">14</div></td><td><div class=\"dni-plaintext\">A</div></td><td><div class=\"dni-plaintext\">c</div></td></tr><tr><td>10</td><td><div class=\"dni-plaintext\">2</div></td><td><div class=\"dni-plaintext\">2</div></td><td><div class=\"dni-plaintext\">h</div></td></tr><tr><td>11</td><td><div class=\"dni-plaintext\">14</div></td><td><div class=\"dni-plaintext\">A</div></td><td><div class=\"dni-plaintext\">s</div></td></tr><tr><td>12</td><td><div class=\"dni-plaintext\">7</div></td><td><div class=\"dni-plaintext\">7</div></td><td><div class=\"dni-plaintext\">d</div></td></tr><tr><td>13</td><td><div class=\"dni-plaintext\">5</div></td><td><div class=\"dni-plaintext\">5</div></td><td><div class=\"dni-plaintext\">d</div></td></tr><tr><td>14</td><td><div class=\"dni-plaintext\">5</div></td><td><div class=\"dni-plaintext\">5</div></td><td><div class=\"dni-plaintext\">s</div></td></tr><tr><td>15</td><td><div class=\"dni-plaintext\">2</div></td><td><div class=\"dni-plaintext\">2</div></td><td><div class=\"dni-plaintext\">d</div></td></tr><tr><td>16</td><td><div class=\"dni-plaintext\">9</div></td><td><div class=\"dni-plaintext\">9</div></td><td><div class=\"dni-plaintext\">s</div></td></tr><tr><td>17</td><td><div class=\"dni-plaintext\">11</div></td><td><div class=\"dni-plaintext\">J</div></td><td><div class=\"dni-plaintext\">c</div></td></tr><tr><td>18</td><td><div class=\"dni-plaintext\">6</div></td><td><div class=\"dni-plaintext\">6</div></td><td><div class=\"dni-plaintext\">d</div></td></tr><tr><td>19</td><td><div class=\"dni-plaintext\">10</div></td><td><div class=\"dni-plaintext\">10</div></td><td><div class=\"dni-plaintext\">s</div></td></tr><tr><td colspan=\"4\">(32 more)</td></tr></tbody></table>"
      ]
     },
     "execution_count": 3,
     "metadata": {},
     "output_type": "execute_result"
    }
   ],
   "source": [
    "// The simplest query\n",
    "var outValues = from card in TheDeck // the required collection we are querying\n",
    "                select card;         // the values to be returned\n",
    "                \n",
    "outValues"
   ]
  },
  {
   "cell_type": "markdown",
   "metadata": {},
   "source": [
    "### Where and OrderBy clauses\n",
    "\n",
    "That's a boring and non-productive query.  You can start to make queries more interesting by adding a `where` clause with an appropriate test in a format similar to that you would find in an `if` statement.  You can also optionally add an `orderby` clause with an **ALSO** optional `descending` keyword.  Tinker with the query in the next block to learn more about these clauses"
   ]
  },
  {
   "cell_type": "code",
   "execution_count": 4,
   "metadata": {},
   "outputs": [
    {
     "data": {
      "text/html": [
       "<table><thead><tr><th><i>index</i></th><th>RankValue</th><th>Rank</th><th>Suit</th></tr></thead><tbody><tr><td>0</td><td><div class=\"dni-plaintext\">10</div></td><td><div class=\"dni-plaintext\">10</div></td><td><div class=\"dni-plaintext\">h</div></td></tr><tr><td>1</td><td><div class=\"dni-plaintext\">12</div></td><td><div class=\"dni-plaintext\">Q</div></td><td><div class=\"dni-plaintext\">h</div></td></tr><tr><td>2</td><td><div class=\"dni-plaintext\">13</div></td><td><div class=\"dni-plaintext\">K</div></td><td><div class=\"dni-plaintext\">h</div></td></tr><tr><td>3</td><td><div class=\"dni-plaintext\">2</div></td><td><div class=\"dni-plaintext\">2</div></td><td><div class=\"dni-plaintext\">h</div></td></tr><tr><td>4</td><td><div class=\"dni-plaintext\">11</div></td><td><div class=\"dni-plaintext\">J</div></td><td><div class=\"dni-plaintext\">h</div></td></tr><tr><td>5</td><td><div class=\"dni-plaintext\">3</div></td><td><div class=\"dni-plaintext\">3</div></td><td><div class=\"dni-plaintext\">h</div></td></tr><tr><td>6</td><td><div class=\"dni-plaintext\">9</div></td><td><div class=\"dni-plaintext\">9</div></td><td><div class=\"dni-plaintext\">h</div></td></tr><tr><td>7</td><td><div class=\"dni-plaintext\">8</div></td><td><div class=\"dni-plaintext\">8</div></td><td><div class=\"dni-plaintext\">h</div></td></tr><tr><td>8</td><td><div class=\"dni-plaintext\">14</div></td><td><div class=\"dni-plaintext\">A</div></td><td><div class=\"dni-plaintext\">h</div></td></tr><tr><td>9</td><td><div class=\"dni-plaintext\">4</div></td><td><div class=\"dni-plaintext\">4</div></td><td><div class=\"dni-plaintext\">h</div></td></tr><tr><td>10</td><td><div class=\"dni-plaintext\">6</div></td><td><div class=\"dni-plaintext\">6</div></td><td><div class=\"dni-plaintext\">h</div></td></tr><tr><td>11</td><td><div class=\"dni-plaintext\">5</div></td><td><div class=\"dni-plaintext\">5</div></td><td><div class=\"dni-plaintext\">h</div></td></tr><tr><td>12</td><td><div class=\"dni-plaintext\">7</div></td><td><div class=\"dni-plaintext\">7</div></td><td><div class=\"dni-plaintext\">h</div></td></tr></tbody></table>"
      ]
     },
     "execution_count": 4,
     "metadata": {},
     "output_type": "execute_result"
    }
   ],
   "source": [
    "var results = from card in TheDeck\n",
    "              where card.Suit == \"h\"    // Return just the Hearts\n",
    "              // orderby card.RankValue \n",
    "              select card;\n",
    "              \n",
    "results"
   ]
  },
  {
   "cell_type": "markdown",
   "metadata": {},
   "source": [
    "Additionally, nothing is requiring you to return the object in the collection.  You can return different properties and values by changing up the `select` clause:"
   ]
  },
  {
   "cell_type": "code",
   "execution_count": 5,
   "metadata": {},
   "outputs": [
    {
     "data": {
      "text/html": [
       "<table><thead><tr><th><i>index</i></th><th>value</th></tr></thead><tbody><tr><td>0</td><td><div class=\"dni-plaintext\">Q</div></td></tr><tr><td>1</td><td><div class=\"dni-plaintext\">K</div></td></tr><tr><td>2</td><td><div class=\"dni-plaintext\">J</div></td></tr><tr><td>3</td><td><div class=\"dni-plaintext\">A</div></td></tr></tbody></table>"
      ]
     },
     "execution_count": 5,
     "metadata": {},
     "output_type": "execute_result"
    }
   ],
   "source": [
    "var results = from card in TheDeck\n",
    "              where card.Suit == \"h\" && card.RankValue > 10\n",
    "              select card.Rank;\n",
    "              \n",
    "results              "
   ]
  },
  {
   "cell_type": "markdown",
   "metadata": {},
   "source": [
    "### Grouping data with the Group clause\n",
    "\n",
    "Data in your query can be grouped together using the [group clause](https://docs.microsoft.com/dotnet/csharp/language-reference/keywords/group-clause?WT.mc_id=visualstudio-twitch-jefritz).  The `group` clause can be used in place of the `select` clause or can be used with the `select` clause to aggregate data in various groupings.  Let's try using the `group` keywords"
   ]
  },
  {
   "cell_type": "code",
   "execution_count": 6,
   "metadata": {},
   "outputs": [
    {
     "data": {
      "text/html": [
       "<span><a href=\"https://docs.microsoft.com/dotnet/api/system.linq.groupedenumerable-2?view=netcore-3.0\">System.Linq.GroupedEnumerable&lt;Submission#4+Card,System.String&gt;</a></span>"
      ]
     },
     "metadata": {},
     "output_type": "display_data"
    },
    {
     "data": {
      "text/html": [
       "<table><thead><tr><th><i>index</i></th><th>value</th></tr></thead><tbody><tr><td>0</td><td><div class=\"dni-plaintext\">[ 10-d, Q-d, 7-d, 5-d, 2-d, 6-d, 4-d, 8-d, J-d, 9-d, K-d, 3-d, A-d ]</div></td></tr><tr><td>1</td><td><div class=\"dni-plaintext\">[ 5-c, 6-c, 9-c, K-c, A-c, J-c, 3-c, 2-c, 7-c, 10-c, 8-c, 4-c, Q-c ]</div></td></tr><tr><td>2</td><td><div class=\"dni-plaintext\">[ 10-h, Q-h, K-h, 2-h, J-h, 3-h, 9-h, 8-h, A-h, 4-h, 6-h, 5-h, 7-h ]</div></td></tr><tr><td>3</td><td><div class=\"dni-plaintext\">[ A-s, 5-s, 9-s, 10-s, J-s, 6-s, 4-s, K-s, 8-s, 3-s, 7-s, Q-s, 2-s ]</div></td></tr></tbody></table>"
      ]
     },
     "execution_count": 6,
     "metadata": {},
     "output_type": "execute_result"
    }
   ],
   "source": [
    "var results = from card in TheDeck\n",
    "              group card by card.Suit;\n",
    "\n",
    "display(results.GetType());\n",
    "results"
   ]
  },
  {
   "cell_type": "markdown",
   "metadata": {},
   "source": [
    "Interestingly, we are returned a collection with all of the cards grouped by their suits.  If we also wanted to select the suit and create a grouped result we could expand our query like this:"
   ]
  },
  {
   "cell_type": "code",
   "execution_count": 7,
   "metadata": {},
   "outputs": [
    {
     "data": {
      "text/html": [
       "<table><thead><tr><th><i>index</i></th><th>TheSuit</th><th>suit</th></tr></thead><tbody><tr><td>0</td><td><div class=\"dni-plaintext\">d</div></td><td><div class=\"dni-plaintext\">[ 10-d, Q-d, 7-d, 5-d, 2-d, 6-d, 4-d, 8-d, J-d, 9-d, K-d, 3-d, A-d ]</div></td></tr><tr><td>1</td><td><div class=\"dni-plaintext\">c</div></td><td><div class=\"dni-plaintext\">[ 5-c, 6-c, 9-c, K-c, A-c, J-c, 3-c, 2-c, 7-c, 10-c, 8-c, 4-c, Q-c ]</div></td></tr><tr><td>2</td><td><div class=\"dni-plaintext\">h</div></td><td><div class=\"dni-plaintext\">[ 10-h, Q-h, K-h, 2-h, J-h, 3-h, 9-h, 8-h, A-h, 4-h, 6-h, 5-h, 7-h ]</div></td></tr><tr><td>3</td><td><div class=\"dni-plaintext\">s</div></td><td><div class=\"dni-plaintext\">[ A-s, 5-s, 9-s, 10-s, J-s, 6-s, 4-s, K-s, 8-s, 3-s, 7-s, Q-s, 2-s ]</div></td></tr></tbody></table>"
      ]
     },
     "execution_count": 7,
     "metadata": {},
     "output_type": "execute_result"
    }
   ],
   "source": [
    "var results = from card in TheDeck\n",
    "              group card by card.Suit into suit\n",
    "              select new {TheSuit=suit.Key, suit};\n",
    "\n",
    "results"
   ]
  },
  {
   "cell_type": "markdown",
   "metadata": {},
   "source": [
    "<img src=\"img/facecards.png\" align=\"right\">\n",
    "\n",
    "Now this is **VERY INTERESTING** we have created an [Anonymous Type](https://docs.microsoft.com/dotnet/csharp/programming-guide/classes-and-structs/anonymous-types?WT.mc_id=visualstudio-twitch-jefritz), a type on the fly that contains a string field for `TheSuit` and a collection of `Card` objects in a field called `suit`.  We'll get more into **Anonymous Types** next week, but you need to know that you can use the `new` keyword with curly braces `{ }` to create a type and make it available in your code.  Many C# veterans will recommend against exposing the anonymous type outside of the method it is created in and instead suggest creating a concrete type to return in that `select` clause.\n",
    "\n",
    "Our groupings can take some interesting calculations.  Let's write a grouping for all of the face cards (and the Ace too):"
   ]
  },
  {
   "cell_type": "code",
   "execution_count": 8,
   "metadata": {},
   "outputs": [
    {
     "data": {
      "text/html": [
       "<table><thead><tr><th><i>index</i></th><th>TheSuit</th><th>facecards</th></tr></thead><tbody><tr><td>0</td><td><div class=\"dni-plaintext\">False</div></td><td><div class=\"dni-plaintext\">[ 10-d, 5-c, 10-h, 6-c, 9-c, 2-h, 7-d, 5-d, 5-s, 2-d, 9-s, 6-d, 10-s, 3-h, 9-h, 4-d, 3-c, 8-d, 2-c, 8-h ... (16 more) ]</div></td></tr><tr><td>1</td><td><div class=\"dni-plaintext\">True</div></td><td><div class=\"dni-plaintext\">[ Q-h, Q-d, K-c, K-h, A-c, A-s, J-c, J-s, J-h, J-d, A-h, K-s, Q-c, K-d, Q-s, A-d ]</div></td></tr></tbody></table>"
      ]
     },
     "execution_count": 8,
     "metadata": {},
     "output_type": "execute_result"
    }
   ],
   "source": [
    "var results = from card in TheDeck\n",
    "              group card by card.RankValue > 10 into facecards\n",
    "              select new {TheSuit=facecards.Key, facecards};\n",
    "\n",
    "results"
   ]
  },
  {
   "cell_type": "markdown",
   "metadata": {},
   "source": [
    "That looks strange, but we have two groups:  1 group that are the numeric cards and a second group that are the face cards.  Let's tinker with that method a little more:"
   ]
  },
  {
   "cell_type": "code",
   "execution_count": 9,
   "metadata": {},
   "outputs": [
    {
     "data": {
      "text/html": [
       "<table><thead><tr><th><i>index</i></th><th>Face</th><th>facecards</th></tr></thead><tbody><tr><td>0</td><td><div class=\"dni-plaintext\">Q</div></td><td><div class=\"dni-plaintext\">[ Q-h, Q-d, Q-c, Q-s ]</div></td></tr><tr><td>1</td><td><div class=\"dni-plaintext\">K</div></td><td><div class=\"dni-plaintext\">[ K-c, K-h, K-s, K-d ]</div></td></tr><tr><td>2</td><td><div class=\"dni-plaintext\">A</div></td><td><div class=\"dni-plaintext\">[ A-c, A-s, A-h, A-d ]</div></td></tr><tr><td>3</td><td><div class=\"dni-plaintext\">J</div></td><td><div class=\"dni-plaintext\">[ J-c, J-s, J-h, J-d ]</div></td></tr></tbody></table>"
      ]
     },
     "execution_count": 9,
     "metadata": {},
     "output_type": "execute_result"
    }
   ],
   "source": [
    "var results = from card in TheDeck\n",
    "              where card.RankValue > 10\n",
    "              group card by card.Rank into facecards\n",
    "              select new {Face=facecards.Key, facecards};\n",
    "\n",
    "results"
   ]
  },
  {
   "cell_type": "markdown",
   "metadata": {},
   "source": [
    "Now this sets up for a simplified **Sam the Bellhop** classic card trick.  Take a few minutes and enjoy magician and former Philadelphia Eagles player [Jon Dorenbos performing this trick](https://www.youtube.com/watch?v=fwKPDrtgXRs) where he sorts and finds cards while telling the story of Sam the Bellhop."
   ]
  },
  {
   "cell_type": "markdown",
   "metadata": {},
   "source": [
    "## Loading data from CSV\n",
    "\n",
    "We've worked with objects and data that we've specified here in the notebook. Let's use an external library, in .NET we call them **NuGet Packages** from www.nuget.org called [LINQtoCSV](https://www.nuget.org/packages/LinqToCsv/) to load US Domestic Box Office Data for 2019 (courtesy of [Box Office Mojo](https://www.boxofficemojo.com/year/2019/))."
   ]
  },
  {
   "cell_type": "code",
   "execution_count": 23,
   "metadata": {},
   "outputs": [
    {
     "data": {
      "text/html": [
       "<table><thead><tr><th><i>index</i></th><th>Rank</th><th>Title</th><th>Theaters</th><th>GrossBoxOffice</th><th>RawReleaseDate</th><th>ReleaseDate</th><th>Distributor</th></tr></thead><tbody><tr><td>0</td><td><div class=\"dni-plaintext\">1</div></td><td><div class=\"dni-plaintext\">Avengers: Endgame</div></td><td><div class=\"dni-plaintext\">4662</div></td><td><div class=\"dni-plaintext\">858373000</div></td><td><span>2020-04-26 00:00:00Z</span></td><td><span>2019-04-26 00:00:00Z</span></td><td><div class=\"dni-plaintext\">Disney</div></td></tr><tr><td>1</td><td><div class=\"dni-plaintext\">2</div></td><td><div class=\"dni-plaintext\">The Lion King</div></td><td><div class=\"dni-plaintext\">4802</div></td><td><div class=\"dni-plaintext\">543638043</div></td><td><span>2020-07-19 00:00:00Z</span></td><td><span>2019-07-19 00:00:00Z</span></td><td><div class=\"dni-plaintext\">Disney</div></td></tr><tr><td>2</td><td><div class=\"dni-plaintext\">3</div></td><td><div class=\"dni-plaintext\">Toy Story 4</div></td><td><div class=\"dni-plaintext\">4575</div></td><td><div class=\"dni-plaintext\">434038008</div></td><td><span>2020-06-21 00:00:00Z</span></td><td><span>2019-06-21 00:00:00Z</span></td><td><div class=\"dni-plaintext\">Disney</div></td></tr><tr><td>3</td><td><div class=\"dni-plaintext\">4</div></td><td><div class=\"dni-plaintext\">Frozen II</div></td><td><div class=\"dni-plaintext\">4440</div></td><td><div class=\"dni-plaintext\">477373578</div></td><td><span>2020-11-22 00:00:00Z</span></td><td><span>2019-11-22 00:00:00Z</span></td><td><div class=\"dni-plaintext\">Disney</div></td></tr><tr><td>4</td><td><div class=\"dni-plaintext\">5</div></td><td><div class=\"dni-plaintext\">Captain Marvel</div></td><td><div class=\"dni-plaintext\">4310</div></td><td><div class=\"dni-plaintext\">426829839</div></td><td><span>2020-03-08 00:00:00Z</span></td><td><span>2019-03-08 00:00:00Z</span></td><td><div class=\"dni-plaintext\">Disney</div></td></tr><tr><td>5</td><td><div class=\"dni-plaintext\">6</div></td><td><div class=\"dni-plaintext\">Star Wars: Episode IX - The Rise of Skywalker</div></td><td><div class=\"dni-plaintext\">4406</div></td><td><div class=\"dni-plaintext\">515202542</div></td><td><span>2020-12-20 00:00:00Z</span></td><td><span>2019-12-20 00:00:00Z</span></td><td><div class=\"dni-plaintext\">Disney</div></td></tr><tr><td>6</td><td><div class=\"dni-plaintext\">7</div></td><td><div class=\"dni-plaintext\">Spider-Man: Far from Home</div></td><td><div class=\"dni-plaintext\">4634</div></td><td><div class=\"dni-plaintext\">390532085</div></td><td><span>2020-07-02 00:00:00Z</span></td><td><span>2019-07-02 00:00:00Z</span></td><td><div class=\"dni-plaintext\">Sony Pictures Entertainment (SPE)</div></td></tr><tr><td>7</td><td><div class=\"dni-plaintext\">8</div></td><td><div class=\"dni-plaintext\">Aladdin</div></td><td><div class=\"dni-plaintext\">4476</div></td><td><div class=\"dni-plaintext\">355559216</div></td><td><span>2020-05-24 00:00:00Z</span></td><td><span>2019-05-24 00:00:00Z</span></td><td><div class=\"dni-plaintext\">Disney</div></td></tr><tr><td>8</td><td><div class=\"dni-plaintext\">9</div></td><td><div class=\"dni-plaintext\">Joker</div></td><td><div class=\"dni-plaintext\">4374</div></td><td><div class=\"dni-plaintext\">335451311</div></td><td><span>2020-10-04 00:00:00Z</span></td><td><span>2019-10-04 00:00:00Z</span></td><td><div class=\"dni-plaintext\">Warner Bros.</div></td></tr><tr><td>9</td><td><div class=\"dni-plaintext\">10</div></td><td><div class=\"dni-plaintext\">It Chapter Two</div></td><td><div class=\"dni-plaintext\">4570</div></td><td><div class=\"dni-plaintext\">211593228</div></td><td><span>2020-09-06 00:00:00Z</span></td><td><span>2019-09-06 00:00:00Z</span></td><td><div class=\"dni-plaintext\">Warner Bros.</div></td></tr><tr><td>10</td><td><div class=\"dni-plaintext\">11</div></td><td><div class=\"dni-plaintext\">Jumanji: The Next Level</div></td><td><div class=\"dni-plaintext\">4227</div></td><td><div class=\"dni-plaintext\">316831246</div></td><td><span>2020-12-13 00:00:00Z</span></td><td><span>2019-12-13 00:00:00Z</span></td><td><div class=\"dni-plaintext\">Sony Pictures Entertainment (SPE)</div></td></tr><tr><td>11</td><td><div class=\"dni-plaintext\">12</div></td><td><div class=\"dni-plaintext\">Us</div></td><td><div class=\"dni-plaintext\">3743</div></td><td><div class=\"dni-plaintext\">175084580</div></td><td><span>2020-03-22 00:00:00Z</span></td><td><span>2019-03-22 00:00:00Z</span></td><td><div class=\"dni-plaintext\">Universal Pictures</div></td></tr><tr><td>12</td><td><div class=\"dni-plaintext\">13</div></td><td><div class=\"dni-plaintext\">Fast &amp; Furious Presents: Hobbs &amp; Shaw</div></td><td><div class=\"dni-plaintext\">4344</div></td><td><div class=\"dni-plaintext\">173956935</div></td><td><span>2020-08-02 00:00:00Z</span></td><td><span>2019-08-02 00:00:00Z</span></td><td><div class=\"dni-plaintext\">Universal Pictures</div></td></tr><tr><td>13</td><td><div class=\"dni-plaintext\">14</div></td><td><div class=\"dni-plaintext\">John Wick: Chapter 3 - Parabellum</div></td><td><div class=\"dni-plaintext\">3850</div></td><td><div class=\"dni-plaintext\">171015687</div></td><td><span>2020-05-17 00:00:00Z</span></td><td><span>2019-05-17 00:00:00Z</span></td><td><div class=\"dni-plaintext\">Lionsgate</div></td></tr><tr><td>14</td><td><div class=\"dni-plaintext\">15</div></td><td><div class=\"dni-plaintext\">How to Train Your Dragon: The Hidden World</div></td><td><div class=\"dni-plaintext\">4286</div></td><td><div class=\"dni-plaintext\">160799505</div></td><td><span>2020-02-22 00:00:00Z</span></td><td><span>2019-02-22 00:00:00Z</span></td><td><div class=\"dni-plaintext\">Universal Pictures</div></td></tr><tr><td>15</td><td><div class=\"dni-plaintext\">16</div></td><td><div class=\"dni-plaintext\">The Secret Life of Pets 2</div></td><td><div class=\"dni-plaintext\">4564</div></td><td><div class=\"dni-plaintext\">158874395</div></td><td><span>2020-06-07 00:00:00Z</span></td><td><span>2019-06-07 00:00:00Z</span></td><td><div class=\"dni-plaintext\">Universal Pictures</div></td></tr><tr><td>16</td><td><div class=\"dni-plaintext\">17</div></td><td><div class=\"dni-plaintext\">Pok&#233;mon Detective Pikachu</div></td><td><div class=\"dni-plaintext\">4248</div></td><td><div class=\"dni-plaintext\">144105346</div></td><td><span>2020-05-10 00:00:00Z</span></td><td><span>2019-05-10 00:00:00Z</span></td><td><div class=\"dni-plaintext\">Warner Bros.</div></td></tr><tr><td>17</td><td><div class=\"dni-plaintext\">18</div></td><td><div class=\"dni-plaintext\">Once Upon a Time... In Hollywood</div></td><td><div class=\"dni-plaintext\">3659</div></td><td><div class=\"dni-plaintext\">142502728</div></td><td><span>2020-07-26 00:00:00Z</span></td><td><span>2019-07-26 00:00:00Z</span></td><td><div class=\"dni-plaintext\">Sony Pictures Entertainment (SPE)</div></td></tr><tr><td>18</td><td><div class=\"dni-plaintext\">19</div></td><td><div class=\"dni-plaintext\">Shazam!</div></td><td><div class=\"dni-plaintext\">4306</div></td><td><div class=\"dni-plaintext\">140371656</div></td><td><span>2020-04-05 00:00:00Z</span></td><td><span>2019-04-05 00:00:00Z</span></td><td><div class=\"dni-plaintext\">Warner Bros.</div></td></tr><tr><td>19</td><td><div class=\"dni-plaintext\">20</div></td><td><div class=\"dni-plaintext\">Aquaman</div></td><td><div class=\"dni-plaintext\">4184</div></td><td><div class=\"dni-plaintext\">335061807</div></td><td><span>2020-12-21 00:00:00Z</span></td><td><span>2019-12-21 00:00:00Z</span></td><td><div class=\"dni-plaintext\">Warner Bros.</div></td></tr><tr><td colspan=\"8\">(889 more)</td></tr></tbody></table>"
      ]
     },
     "execution_count": 23,
     "metadata": {},
     "output_type": "execute_result"
    }
   ],
   "source": [
    "#r \"nuget:LinqToCsv\"\n",
    "using LINQtoCSV;\n",
    "\n",
    "class MyDataRow { \n",
    "    [CsvColumn(Name = \"Rank\", FieldIndex = 1)]\n",
    "    public int Rank {get; set;}\n",
    "    [CsvColumn(Name = \"Release\", FieldIndex = 2)]\n",
    "    public string Title { get; set;}\n",
    "    [CsvColumn(Name = \"Theaters\", FieldIndex = 3)]\n",
    "    public int Theaters { get; set;}\n",
    "    [CsvColumn(Name = \"Total Gross\", FieldIndex = 4)]\n",
    "    public long GrossBoxOffice { get; set;}\n",
    "    [CsvColumn(Name = \"Release Date\", FieldIndex = 5, OutputFormat=\"MM/d/yyyy\")]\n",
    "    public DateTime RawReleaseDate { get; set; }\n",
    "    public DateTime ReleaseDate { get { return new DateTime(2019, RawReleaseDate.Month, RawReleaseDate.Day); } }\n",
    "    [CsvColumn(Name=\"Distributor\", FieldIndex = 6)]\n",
    "    public string Distributor { get; set; }\n",
    "}\n",
    "var inputFileDescription = new CsvFileDescription\n",
    "{\n",
    "    SeparatorChar = ',', \n",
    "    FirstLineHasColumnNames = true\n",
    "};\n",
    "var context = new CsvContext();\n",
    "var boxOffice = context.Read<MyDataRow>(\"data/2019_US_BoxOffice.csv\", inputFileDescription);\n",
    "boxOffice"
   ]
  },
  {
   "cell_type": "code",
   "execution_count": 38,
   "metadata": {},
   "outputs": [
    {
     "data": {
      "text/html": [
       "<table><thead><tr><th><i>index</i></th><th>Distributor</th><th>TotalBoxOffice</th><th>AvgTheaters</th><th>BestFilm</th></tr></thead><tbody><tr><td>0</td><td><div class=\"dni-plaintext\">Disney</div></td><td><div class=\"dni-plaintext\">$4,212,760,287.00</div></td><td><div class=\"dni-plaintext\">4351</div></td><td><div class=\"dni-plaintext\">Avengers: Endgame</div></td></tr><tr><td>1</td><td><div class=\"dni-plaintext\">Warner Bros.</div></td><td><div class=\"dni-plaintext\">$1,695,953,630.00</div></td><td><div class=\"dni-plaintext\">3976</div></td><td><div class=\"dni-plaintext\">Joker</div></td></tr><tr><td>2</td><td><div class=\"dni-plaintext\">Sony Pictures Entertainment (SPE)</div></td><td><div class=\"dni-plaintext\">$1,503,714,590.00</div></td><td><div class=\"dni-plaintext\">3682</div></td><td><div class=\"dni-plaintext\">Spider-Man: Far from Home</div></td></tr><tr><td>3</td><td><div class=\"dni-plaintext\">Universal Pictures</div></td><td><div class=\"dni-plaintext\">$1,298,633,470.00</div></td><td><div class=\"dni-plaintext\">3402</div></td><td><div class=\"dni-plaintext\">Us</div></td></tr><tr><td>4</td><td><div class=\"dni-plaintext\">Lionsgate</div></td><td><div class=\"dni-plaintext\">$757,463,985.00</div></td><td><div class=\"dni-plaintext\">3181</div></td><td><div class=\"dni-plaintext\">John Wick: Chapter 3 - Parabellum</div></td></tr><tr><td>5</td><td><div class=\"dni-plaintext\">Twentieth Century Fox</div></td><td><div class=\"dni-plaintext\">$692,033,142.00</div></td><td><div class=\"dni-plaintext\">3440</div></td><td><div class=\"dni-plaintext\">Bohemian Rhapsody</div></td></tr><tr><td>6</td><td><div class=\"dni-plaintext\">Paramount Pictures</div></td><td><div class=\"dni-plaintext\">$632,860,971.00</div></td><td><div class=\"dni-plaintext\">3536</div></td><td><div class=\"dni-plaintext\">Bumblebee</div></td></tr><tr><td>7</td><td><div class=\"dni-plaintext\">STX Entertainment</div></td><td><div class=\"dni-plaintext\">$267,377,638.00</div></td><td><div class=\"dni-plaintext\">3108</div></td><td><div class=\"dni-plaintext\">The Upside</div></td></tr><tr><td>8</td><td><div class=\"dni-plaintext\">United Artists Releasing</div></td><td><div class=\"dni-plaintext\">$187,351,308.00</div></td><td><div class=\"dni-plaintext\">3177</div></td><td><div class=\"dni-plaintext\">The Addams Family</div></td></tr><tr><td>9</td><td><div class=\"dni-plaintext\">Focus Features</div></td><td><div class=\"dni-plaintext\">$164,558,977.00</div></td><td><div class=\"dni-plaintext\">2564</div></td><td><div class=\"dni-plaintext\">Downton Abbey</div></td></tr><tr><td>10</td><td><div class=\"dni-plaintext\">A24</div></td><td><div class=\"dni-plaintext\">$77,450,141.00</div></td><td><div class=\"dni-plaintext\">2696</div></td><td><div class=\"dni-plaintext\">Uncut Gems</div></td></tr><tr><td>11</td><td><div class=\"dni-plaintext\">Neon</div></td><td><div class=\"dni-plaintext\">$53,369,749.00</div></td><td><div class=\"dni-plaintext\">2001</div></td><td><div class=\"dni-plaintext\">Parasite</div></td></tr><tr><td>12</td><td><div class=\"dni-plaintext\">Annapurna Pictures</div></td><td><div class=\"dni-plaintext\">$47,836,282.00</div></td><td><div class=\"dni-plaintext\">2534</div></td><td><div class=\"dni-plaintext\">Vice</div></td></tr><tr><td>13</td><td><div class=\"dni-plaintext\">Screen Gems</div></td><td><div class=\"dni-plaintext\">$35,419,122.00</div></td><td><div class=\"dni-plaintext\">2231</div></td><td><div class=\"dni-plaintext\">The Intruder</div></td></tr><tr><td>14</td><td><div class=\"dni-plaintext\">Affirm Films</div></td><td><div class=\"dni-plaintext\">$34,746,945.00</div></td><td><div class=\"dni-plaintext\">2293</div></td><td><div class=\"dni-plaintext\">Overcomer</div></td></tr><tr><td>15</td><td><div class=\"dni-plaintext\">FUNimation Entertainment</div></td><td><div class=\"dni-plaintext\">$30,712,119.00</div></td><td><div class=\"dni-plaintext\">1267</div></td><td><div class=\"dni-plaintext\">Dragon Ball Super: Broly</div></td></tr><tr><td>16</td><td><div class=\"dni-plaintext\">Fox Searchlight Pictures</div></td><td><div class=\"dni-plaintext\">$28,714,231.00</div></td><td><div class=\"dni-plaintext\">2998</div></td><td><div class=\"dni-plaintext\">Ready or Not</div></td></tr><tr><td>17</td><td><div class=\"dni-plaintext\">Roadside Attractions</div></td><td><div class=\"dni-plaintext\">$24,313,888.00</div></td><td><div class=\"dni-plaintext\">1627</div></td><td><div class=\"dni-plaintext\">Judy</div></td></tr><tr><td>18</td><td><div class=\"dni-plaintext\">Metro-Goldwyn-Mayer (MGM)</div></td><td><div class=\"dni-plaintext\">$22,958,886.00</div></td><td><div class=\"dni-plaintext\">2855</div></td><td><div class=\"dni-plaintext\">Fighting with My Family</div></td></tr><tr><td>19</td><td><div class=\"dni-plaintext\">Entertainment Studios Motion Pictures</div></td><td><div class=\"dni-plaintext\">$22,260,900.00</div></td><td><div class=\"dni-plaintext\">2883</div></td><td><div class=\"dni-plaintext\">47 Meters Down: Uncaged</div></td></tr></tbody></table>"
      ]
     },
     "execution_count": 38,
     "metadata": {},
     "output_type": "execute_result"
    }
   ],
   "source": [
    "// Let's return the total receipts for the top 100 films, grouped by studio \n",
    "// with their average number of theaters reported and their top film for 2019\n",
    "\n",
    "var results = from z in (\n",
    "                from film in boxOffice\n",
    "                where film.Rank <= 100\n",
    "                group film by film.Distributor into dist\n",
    "                select new { Distributor=dist.Key, \n",
    "                    TotalBoxOffice=(\n",
    "                        from f in dist\n",
    "                        select f.GrossBoxOffice\n",
    "                    ).Sum(),\n",
    "                    AvgTheaters=Math.Round((\n",
    "                        from f in dist\n",
    "                        select f.Theaters\n",
    "                    ).Average()),\n",
    "                    BestFilm = (\n",
    "                        from f in dist\n",
    "                        orderby f.GrossBoxOffice descending\n",
    "                        select f.Title\n",
    "                    ).First()\n",
    "                }\n",
    "            )\n",
    "            orderby z.TotalBoxOffice descending\n",
    "            select new {z.Distributor, TotalBoxOffice=z.TotalBoxOffice.ToString(\"c\"), z.AvgTheaters, z.BestFilm}; \n",
    "\n",
    "results"
   ]
  },
  {
   "cell_type": "markdown",
   "metadata": {},
   "source": [
    "## Extension Methods\n",
    "\n",
    "https://docs.microsoft.com/dotnet/csharp/programming-guide/classes-and-structs/extension-methods?WT.mc_id=visualstudio-twitch-jefritz"
   ]
  }
 ],
 "metadata": {
  "kernelspec": {
   "display_name": ".NET (C#)",
   "language": "C#",
   "name": ".net-csharp"
  },
  "language_info": {
   "file_extension": ".cs",
   "mimetype": "text/x-csharp",
   "name": "C#",
   "pygments_lexer": "csharp",
   "version": "8.0"
  }
 },
 "nbformat": 4,
 "nbformat_minor": 4
}
