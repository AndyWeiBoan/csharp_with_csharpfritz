{
 "cells": [
  {
   "cell_type": "markdown",
   "metadata": {},
   "source": [
    "# Session 6: LINQ and Extension Methods\n",
    "\n",
    "<img align=\"right\" width=\"150\" height=\"113\" src=\"img/csharp_savetheday.png\">\n",
    "\n",
    "[LINQ (Language Integrated Query)](https://docs.microsoft.com/en-us/dotnet/csharp/programming-guide/concepts/linq/?WT.mc_id=visualstudio-twitch-jefritz) is a collection of methods and language features that allow you to interact with collections of data.  In our last session, we focused on **LINQ to Objects** which allows us to use method predicates to interact with those collections.\n",
    "\n",
    "Let's setup our `Card` class and `FritzSet` collection object to work with again in this workbook"
   ]
  },
  {
   "cell_type": "code",
   "execution_count": 1,
   "metadata": {
    "jupyter": {
     "source_hidden": true
    }
   },
   "outputs": [
    {
     "data": {
      "text/html": [
       "\r\n",
       "<div>\r\n",
       "    <div id='dotnet-interactive-this-cell-38008.cb2993cbed6d476fbcfae821580f83cf' style='display: none'>\r\n",
       "        The below script needs to be able to find the current output cell; this is an easy method to get it.\r\n",
       "    </div>\r\n",
       "    <script type='text/javascript'>\r\n",
       "// ensure `require` is available globally\r\n",
       "if (typeof require !== typeof Function || typeof require.config !== typeof Function) {\r\n",
       "    let require_script = document.createElement('script');\r\n",
       "    require_script.setAttribute('src', 'https://cdnjs.cloudflare.com/ajax/libs/require.js/2.3.6/require.min.js');\r\n",
       "    require_script.setAttribute('type', 'text/javascript');\r\n",
       "    require_script.onload = function () {\r\n",
       "        loadDotnetInteractiveApi();\r\n",
       "    };\r\n",
       "\r\n",
       "    document.getElementsByTagName('head')[0].appendChild(require_script);\r\n",
       "}\r\n",
       "else {\r\n",
       "    loadDotnetInteractiveApi();\r\n",
       "}\r\n",
       "\r\n",
       "async function probeAddresses(probingAddresses) {\r\n",
       "    function timeout(ms, promise) {\r\n",
       "        return new Promise(function (resolve, reject) {\r\n",
       "            setTimeout(function () {\r\n",
       "                reject(new Error('timeout'))\r\n",
       "            }, ms)\r\n",
       "            promise.then(resolve, reject)\r\n",
       "        })\r\n",
       "    }\r\n",
       "\r\n",
       "    if (Array.isArray(probingAddresses)) {\r\n",
       "        for (let i = 0; i < probingAddresses.length; i++) {\r\n",
       "\r\n",
       "            let rootUrl = probingAddresses[i];\r\n",
       "\r\n",
       "            if (!rootUrl.endsWith('/')) {\r\n",
       "                rootUrl = `${rootUrl}/`;\r\n",
       "            }\r\n",
       "\r\n",
       "            try {\r\n",
       "                let response = await timeout(1000, fetch(`${rootUrl}discovery`, {\r\n",
       "                    method: 'POST',\r\n",
       "                    cache: 'no-cache',\r\n",
       "                    mode: 'cors',\r\n",
       "                    timeout: 1000,\r\n",
       "                    headers: {\r\n",
       "                        'Content-Type': 'text/plain'\r\n",
       "                    },\r\n",
       "                    body: probingAddresses[i]\r\n",
       "                }));\r\n",
       "\r\n",
       "                if (response.status == 200) {\r\n",
       "                    return rootUrl;\r\n",
       "                }\r\n",
       "            }\r\n",
       "            catch (e) { }\r\n",
       "        }\r\n",
       "    }\r\n",
       "}\r\n",
       "\r\n",
       "function loadDotnetInteractiveApi() {\r\n",
       "    probeAddresses([\"http://172.22.192.1:1001/\", \"http://192.168.1.71:1001/\", \"http://127.0.0.1:1001/\"])\r\n",
       "        .then((root) => {\r\n",
       "            // use probing to find host url and api resources\r\n",
       "            // load interactive helpers and language services\r\n",
       "            let dotnetInteractiveRequire = require.config({\r\n",
       "                context: '38008.cb2993cbed6d476fbcfae821580f83cf',\r\n",
       "                paths: {\r\n",
       "                    'dotnet-interactive': `${root}resources`\r\n",
       "                }\r\n",
       "            }) || require;\r\n",
       "\r\n",
       "            let dotnetInteractiveExtensionsRequire = require.config({\r\n",
       "                context: '38008.cb2993cbed6d476fbcfae821580f83cf',\r\n",
       "                paths: {\r\n",
       "                    'dotnet-interactive-extensions': `${root}extensions`\r\n",
       "                }\r\n",
       "            }) || require;\r\n",
       "\r\n",
       "            if (!window.dotnetInteractiveRequire) {\r\n",
       "                window.dotnetInteractiveRequire = dotnetInteractiveRequire;\r\n",
       "            }\r\n",
       "\r\n",
       "            if (!window.dotnetInteractiveExtensionsRequire) {\r\n",
       "                window.dotnetInteractiveExtensionsRequire = dotnetInteractiveExtensionsRequire;\r\n",
       "            }\r\n",
       "\r\n",
       "            window.getExtensionRequire = function(extensionName, extensionCacheBuster) {\r\n",
       "                let paths = {};\r\n",
       "                paths[extensionName] = `${root}extensions/${extensionName}/resources/`;\r\n",
       "                \r\n",
       "                let internalRequire = require.config({\r\n",
       "                    context: extensionCacheBuster,\r\n",
       "                    paths: paths,\r\n",
       "                    urlArgs: `cacheBuster=${extensionCacheBuster}`\r\n",
       "                    }) || require;\r\n",
       "\r\n",
       "                return internalRequire\r\n",
       "            };\r\n",
       "        \r\n",
       "            dotnetInteractiveRequire([\r\n",
       "                    'dotnet-interactive/dotnet-interactive'\r\n",
       "                ],\r\n",
       "                function (dotnet) {\r\n",
       "                    dotnet.init(window);\r\n",
       "                },\r\n",
       "                function (error) {\r\n",
       "                    console.log(error);\r\n",
       "                }\r\n",
       "            );\r\n",
       "        })\r\n",
       "        .catch(error => {console.log(error);});\r\n",
       "    }\r\n",
       "    </script>\r\n",
       "</div>"
      ]
     },
     "metadata": {},
     "output_type": "display_data"
    }
   ],
   "source": [
    "class Card {\n",
    "    public Card(string def) {\n",
    "        var values = def.Split('-');\n",
    "        Rank = values[0];\n",
    "        Suit = values[1];\n",
    "    }\n",
    "    public string Rank;\n",
    "    public int RankValue { \n",
    "        get { \n",
    "            var faceCards = new Dictionary<string,int> { {\"J\", 11}, {\"Q\", 12}, {\"K\", 13}, {\"A\", 14} };\n",
    "            return faceCards.ContainsKey(Rank) ? faceCards[Rank] : int.Parse(Rank); \n",
    "        }\n",
    "    }\n",
    "    public string Suit;\n",
    "    public override string ToString() {\n",
    "        return $\"{Rank}-{Suit}\";\n",
    "    }\n",
    "    public static implicit operator Card(string id) {\n",
    "        return new Card(id);\n",
    "    }\n",
    "}\n",
    "\n",
    "class FritzSet<T> : IEnumerable<T> {\n",
    "\n",
    "    private List<T> _Inner = new List<T>();\n",
    "\n",
    "    public IEnumerator<T> GetEnumerator()\n",
    "    {\n",
    "        return _Inner.GetEnumerator();\n",
    "    }\n",
    "\n",
    "    IEnumerator IEnumerable.GetEnumerator()\n",
    "    {\n",
    "        return _Inner.GetEnumerator();\n",
    "    }\n",
    "\n",
    "    public void Add(T newItem) {\n",
    "        var insertAt = _Inner.Count == 0 ? 0 : new Random().Next(0,_Inner.Count+1);\n",
    "        _Inner.Insert(insertAt, newItem);\n",
    "    }\n",
    "    \n",
    "    public FritzSet<T> Shuffle() {\n",
    "        _Inner = _Inner.OrderBy(_ => Guid.NewGuid()).ToList();\n",
    "        return this;\n",
    "    }\n",
    "    \n",
    "}\n",
    "\n",
    "var TheDeck = new FritzSet<Card>();\n",
    "TheDeck.Add(\"A-c\");TheDeck.Add(\"A-d\");TheDeck.Add(\"A-h\");TheDeck.Add(\"A-s\");TheDeck.Add(\"2-c\");TheDeck.Add(\"2-d\");TheDeck.Add(\"2-h\");TheDeck.Add(\"2-s\");TheDeck.Add(\"3-c\");TheDeck.Add(\"3-d\");TheDeck.Add(\"3-h\");TheDeck.Add(\"3-s\");TheDeck.Add(\"4-c\");TheDeck.Add(\"4-d\");TheDeck.Add(\"4-h\");TheDeck.Add(\"4-s\");\n",
    "TheDeck.Add(\"5-c\");TheDeck.Add(\"5-d\");TheDeck.Add(\"5-h\");TheDeck.Add(\"5-s\");TheDeck.Add(\"6-c\");TheDeck.Add(\"6-d\");TheDeck.Add(\"6-h\");TheDeck.Add(\"6-s\");TheDeck.Add(\"7-c\");TheDeck.Add(\"7-d\");TheDeck.Add(\"7-h\");TheDeck.Add(\"7-s\");TheDeck.Add(\"8-c\");TheDeck.Add(\"8-d\");TheDeck.Add(\"8-h\");TheDeck.Add(\"8-s\");\n",
    "TheDeck.Add(\"9-c\");TheDeck.Add(\"9-d\");TheDeck.Add(\"9-h\");TheDeck.Add(\"9-s\");TheDeck.Add(\"10-c\");TheDeck.Add(\"10-d\");TheDeck.Add(\"10-h\");TheDeck.Add(\"10-s\");TheDeck.Add(\"J-c\");TheDeck.Add(\"J-d\");TheDeck.Add(\"J-h\");TheDeck.Add(\"J-s\");\n",
    "TheDeck.Add(\"Q-c\");TheDeck.Add(\"Q-d\");TheDeck.Add(\"Q-h\");TheDeck.Add(\"Q-s\");TheDeck.Add(\"K-c\");TheDeck.Add(\"K-d\");TheDeck.Add(\"K-h\");TheDeck.Add(\"K-s\");\n",
    "\n",
    "// TheDeck\n",
    "TheDeck.Shuffle().Shuffle().Shuffle().Shuffle().Shuffle();\n",
    "//TheDeck"
   ]
  },
  {
   "cell_type": "markdown",
   "metadata": {},
   "source": [
    "In review, we can write a little bit of code to work with this collection to deal cards appropriately for a Texas Hold 'em poker game:"
   ]
  },
  {
   "cell_type": "code",
   "execution_count": 2,
   "metadata": {},
   "outputs": [
    {
     "data": {
      "text/plain": [
       "Hand 1"
      ]
     },
     "metadata": {},
     "output_type": "display_data"
    },
    {
     "data": {
      "text/html": [
       "<table><thead><tr><th><i>index</i></th><th>RankValue</th><th>Rank</th><th>Suit</th></tr></thead><tbody><tr><td>0</td><td><div class=\"dni-plaintext\">4</div></td><td><div class=\"dni-plaintext\">4</div></td><td><div class=\"dni-plaintext\">d</div></td></tr><tr><td>1</td><td><div class=\"dni-plaintext\">6</div></td><td><div class=\"dni-plaintext\">6</div></td><td><div class=\"dni-plaintext\">s</div></td></tr></tbody></table>"
      ]
     },
     "metadata": {},
     "output_type": "display_data"
    },
    {
     "data": {
      "text/plain": [
       "Hand 2"
      ]
     },
     "metadata": {},
     "output_type": "display_data"
    },
    {
     "data": {
      "text/html": [
       "<table><thead><tr><th><i>index</i></th><th>RankValue</th><th>Rank</th><th>Suit</th></tr></thead><tbody><tr><td>0</td><td><div class=\"dni-plaintext\">3</div></td><td><div class=\"dni-plaintext\">3</div></td><td><div class=\"dni-plaintext\">s</div></td></tr><tr><td>1</td><td><div class=\"dni-plaintext\">5</div></td><td><div class=\"dni-plaintext\">5</div></td><td><div class=\"dni-plaintext\">s</div></td></tr></tbody></table>"
      ]
     },
     "metadata": {},
     "output_type": "display_data"
    },
    {
     "data": {
      "text/plain": [
       "Hand 2"
      ]
     },
     "metadata": {},
     "output_type": "display_data"
    },
    {
     "data": {
      "text/html": [
       "<table><thead><tr><th><i>index</i></th><th>RankValue</th><th>Rank</th><th>Suit</th></tr></thead><tbody><tr><td>0</td><td><div class=\"dni-plaintext\">4</div></td><td><div class=\"dni-plaintext\">4</div></td><td><div class=\"dni-plaintext\">c</div></td></tr><tr><td>1</td><td><div class=\"dni-plaintext\">5</div></td><td><div class=\"dni-plaintext\">5</div></td><td><div class=\"dni-plaintext\">d</div></td></tr></tbody></table>"
      ]
     },
     "metadata": {},
     "output_type": "display_data"
    },
    {
     "data": {
      "text/plain": [
       "The Flop"
      ]
     },
     "metadata": {},
     "output_type": "display_data"
    },
    {
     "data": {
      "text/html": [
       "<table><thead><tr><th><i>index</i></th><th>RankValue</th><th>Rank</th><th>Suit</th></tr></thead><tbody><tr><td>0</td><td><div class=\"dni-plaintext\">13</div></td><td><div class=\"dni-plaintext\">K</div></td><td><div class=\"dni-plaintext\">c</div></td></tr><tr><td>1</td><td><div class=\"dni-plaintext\">6</div></td><td><div class=\"dni-plaintext\">6</div></td><td><div class=\"dni-plaintext\">c</div></td></tr><tr><td>2</td><td><div class=\"dni-plaintext\">5</div></td><td><div class=\"dni-plaintext\">5</div></td><td><div class=\"dni-plaintext\">c</div></td></tr></tbody></table>"
      ]
     },
     "metadata": {},
     "output_type": "display_data"
    },
    {
     "data": {
      "text/plain": [
       "The Turn"
      ]
     },
     "metadata": {},
     "output_type": "display_data"
    },
    {
     "data": {
      "text/html": [
       "<table><thead><tr><th>RankValue</th><th>Rank</th><th>Suit</th></tr></thead><tbody><tr><td><div class=\"dni-plaintext\">5</div></td><td><div class=\"dni-plaintext\">5</div></td><td><div class=\"dni-plaintext\">c</div></td></tr></tbody></table>"
      ]
     },
     "metadata": {},
     "output_type": "display_data"
    },
    {
     "data": {
      "text/plain": [
       "The River"
      ]
     },
     "metadata": {},
     "output_type": "display_data"
    },
    {
     "data": {
      "text/html": [
       "<table><thead><tr><th>RankValue</th><th>Rank</th><th>Suit</th></tr></thead><tbody><tr><td><div class=\"dni-plaintext\">14</div></td><td><div class=\"dni-plaintext\">A</div></td><td><div class=\"dni-plaintext\">h</div></td></tr></tbody></table>"
      ]
     },
     "metadata": {},
     "output_type": "display_data"
    }
   ],
   "source": [
    "var ourDeck = TheDeck.Shuffle().Shuffle();\n",
    "\n",
    "var hand1 = new List<Card>();\n",
    "var hand2 = new List<Card>();\n",
    "var hand3 = new List<Card>();\n",
    "hand1.Add(ourDeck.Skip(1).First());\n",
    "hand2.Add(ourDeck.Skip(2).First());\n",
    "hand3.Add(ourDeck.Skip(3).First());\n",
    "hand1.Add(ourDeck.Skip(4).First());\n",
    "hand2.Add(ourDeck.Skip(5).First());\n",
    "hand3.Add(ourDeck.Skip(6).First());\n",
    "\n",
    "display(\"Hand 1\");\n",
    "display(hand1);\n",
    "display(\"Hand 2\");\n",
    "display(hand2);\n",
    "display(\"Hand 2\");\n",
    "display(hand3);\n",
    "\n",
    "// Burn a card and deal the next 3 cards called 'the flop'\n",
    "display(\"The Flop\");\n",
    "display(ourDeck.Skip(8).Take(3));\n",
    "    \n",
    "// Burn a card and take one card called 'the turn'\n",
    "display(\"The Turn\");\n",
    "display(ourDeck.Skip(10).First());\n",
    "\n",
    "// Burn a card and take the final card called 'the river'\n",
    "display(\"The River\");\n",
    "display(ourDeck.Skip(12).First());"
   ]
  },
  {
   "cell_type": "markdown",
   "metadata": {},
   "source": [
    "## Language Integrated Query\n",
    "\n",
    "You can build [expressions](https://docs.microsoft.com/dotnet/csharp/linq/query-expression-basics?WT.mc_id=visualstudio-twitch-jefritz#what-is-a-query-and-what-does-it-do) in the middle of your C# code that _LOOKS_ like SQL turned sideways.  Query Expressions begin with a `from` clause and there's also a mandatory `select` clause to specify the values to return.  By convention, many C# developers who use this syntax align the clauses to the right of the `=` symbol.  Let's dig into that syntax a bit more:"
   ]
  },
  {
   "cell_type": "code",
   "execution_count": 3,
   "metadata": {},
   "outputs": [
    {
     "data": {
      "text/html": [
       "<table><thead><tr><th><i>index</i></th><th>RankValue</th><th>Rank</th><th>Suit</th></tr></thead><tbody><tr><td>0</td><td><div class=\"dni-plaintext\">10</div></td><td><div class=\"dni-plaintext\">10</div></td><td><div class=\"dni-plaintext\">s</div></td></tr><tr><td>1</td><td><div class=\"dni-plaintext\">4</div></td><td><div class=\"dni-plaintext\">4</div></td><td><div class=\"dni-plaintext\">d</div></td></tr><tr><td>2</td><td><div class=\"dni-plaintext\">3</div></td><td><div class=\"dni-plaintext\">3</div></td><td><div class=\"dni-plaintext\">s</div></td></tr><tr><td>3</td><td><div class=\"dni-plaintext\">4</div></td><td><div class=\"dni-plaintext\">4</div></td><td><div class=\"dni-plaintext\">c</div></td></tr><tr><td>4</td><td><div class=\"dni-plaintext\">6</div></td><td><div class=\"dni-plaintext\">6</div></td><td><div class=\"dni-plaintext\">s</div></td></tr><tr><td>5</td><td><div class=\"dni-plaintext\">5</div></td><td><div class=\"dni-plaintext\">5</div></td><td><div class=\"dni-plaintext\">s</div></td></tr><tr><td>6</td><td><div class=\"dni-plaintext\">5</div></td><td><div class=\"dni-plaintext\">5</div></td><td><div class=\"dni-plaintext\">d</div></td></tr><tr><td>7</td><td><div class=\"dni-plaintext\">2</div></td><td><div class=\"dni-plaintext\">2</div></td><td><div class=\"dni-plaintext\">d</div></td></tr><tr><td>8</td><td><div class=\"dni-plaintext\">13</div></td><td><div class=\"dni-plaintext\">K</div></td><td><div class=\"dni-plaintext\">c</div></td></tr><tr><td>9</td><td><div class=\"dni-plaintext\">6</div></td><td><div class=\"dni-plaintext\">6</div></td><td><div class=\"dni-plaintext\">c</div></td></tr><tr><td>10</td><td><div class=\"dni-plaintext\">5</div></td><td><div class=\"dni-plaintext\">5</div></td><td><div class=\"dni-plaintext\">c</div></td></tr><tr><td>11</td><td><div class=\"dni-plaintext\">13</div></td><td><div class=\"dni-plaintext\">K</div></td><td><div class=\"dni-plaintext\">s</div></td></tr><tr><td>12</td><td><div class=\"dni-plaintext\">14</div></td><td><div class=\"dni-plaintext\">A</div></td><td><div class=\"dni-plaintext\">h</div></td></tr><tr><td>13</td><td><div class=\"dni-plaintext\">10</div></td><td><div class=\"dni-plaintext\">10</div></td><td><div class=\"dni-plaintext\">h</div></td></tr><tr><td>14</td><td><div class=\"dni-plaintext\">12</div></td><td><div class=\"dni-plaintext\">Q</div></td><td><div class=\"dni-plaintext\">s</div></td></tr><tr><td>15</td><td><div class=\"dni-plaintext\">2</div></td><td><div class=\"dni-plaintext\">2</div></td><td><div class=\"dni-plaintext\">s</div></td></tr><tr><td>16</td><td><div class=\"dni-plaintext\">10</div></td><td><div class=\"dni-plaintext\">10</div></td><td><div class=\"dni-plaintext\">d</div></td></tr><tr><td>17</td><td><div class=\"dni-plaintext\">12</div></td><td><div class=\"dni-plaintext\">Q</div></td><td><div class=\"dni-plaintext\">d</div></td></tr><tr><td>18</td><td><div class=\"dni-plaintext\">3</div></td><td><div class=\"dni-plaintext\">3</div></td><td><div class=\"dni-plaintext\">d</div></td></tr><tr><td>19</td><td><div class=\"dni-plaintext\">13</div></td><td><div class=\"dni-plaintext\">K</div></td><td><div class=\"dni-plaintext\">h</div></td></tr><tr><td colspan=\"4\">(32 more)</td></tr></tbody></table>"
      ]
     },
     "execution_count": 3,
     "metadata": {},
     "output_type": "execute_result"
    }
   ],
   "source": [
    "// The simplest query\n",
    "var outValues = from card in TheDeck // the required collection we are querying\n",
    "                select card;         // the values to be returned\n",
    "                \n",
    "outValues"
   ]
  },
  {
   "cell_type": "markdown",
   "metadata": {},
   "source": [
    "### Where and OrderBy clauses\n",
    "\n",
    "That's a boring and non-productive query.  You can start to make queries more interesting by adding a `where` clause with an appropriate test in a format similar to that you would find in an `if` statement.  You can also optionally add an `orderby` clause with an **ALSO** optional `descending` keyword.  Tinker with the query in the next block to learn more about these clauses"
   ]
  },
  {
   "cell_type": "code",
   "execution_count": 4,
   "metadata": {},
   "outputs": [
    {
     "data": {
      "text/html": [
       "<table><thead><tr><th><i>index</i></th><th>RankValue</th><th>Rank</th><th>Suit</th></tr></thead><tbody><tr><td>0</td><td><div class=\"dni-plaintext\">14</div></td><td><div class=\"dni-plaintext\">A</div></td><td><div class=\"dni-plaintext\">h</div></td></tr><tr><td>1</td><td><div class=\"dni-plaintext\">10</div></td><td><div class=\"dni-plaintext\">10</div></td><td><div class=\"dni-plaintext\">h</div></td></tr><tr><td>2</td><td><div class=\"dni-plaintext\">13</div></td><td><div class=\"dni-plaintext\">K</div></td><td><div class=\"dni-plaintext\">h</div></td></tr><tr><td>3</td><td><div class=\"dni-plaintext\">11</div></td><td><div class=\"dni-plaintext\">J</div></td><td><div class=\"dni-plaintext\">h</div></td></tr><tr><td>4</td><td><div class=\"dni-plaintext\">4</div></td><td><div class=\"dni-plaintext\">4</div></td><td><div class=\"dni-plaintext\">h</div></td></tr><tr><td>5</td><td><div class=\"dni-plaintext\">7</div></td><td><div class=\"dni-plaintext\">7</div></td><td><div class=\"dni-plaintext\">h</div></td></tr><tr><td>6</td><td><div class=\"dni-plaintext\">2</div></td><td><div class=\"dni-plaintext\">2</div></td><td><div class=\"dni-plaintext\">h</div></td></tr><tr><td>7</td><td><div class=\"dni-plaintext\">12</div></td><td><div class=\"dni-plaintext\">Q</div></td><td><div class=\"dni-plaintext\">h</div></td></tr><tr><td>8</td><td><div class=\"dni-plaintext\">5</div></td><td><div class=\"dni-plaintext\">5</div></td><td><div class=\"dni-plaintext\">h</div></td></tr><tr><td>9</td><td><div class=\"dni-plaintext\">9</div></td><td><div class=\"dni-plaintext\">9</div></td><td><div class=\"dni-plaintext\">h</div></td></tr><tr><td>10</td><td><div class=\"dni-plaintext\">8</div></td><td><div class=\"dni-plaintext\">8</div></td><td><div class=\"dni-plaintext\">h</div></td></tr><tr><td>11</td><td><div class=\"dni-plaintext\">3</div></td><td><div class=\"dni-plaintext\">3</div></td><td><div class=\"dni-plaintext\">h</div></td></tr><tr><td>12</td><td><div class=\"dni-plaintext\">6</div></td><td><div class=\"dni-plaintext\">6</div></td><td><div class=\"dni-plaintext\">h</div></td></tr></tbody></table>"
      ]
     },
     "execution_count": 4,
     "metadata": {},
     "output_type": "execute_result"
    }
   ],
   "source": [
    "var results = from card in TheDeck\n",
    "              where card.Suit == \"h\"    // Return just the Hearts\n",
    "              // orderby card.RankValue \n",
    "              select card;\n",
    "              \n",
    "results"
   ]
  },
  {
   "cell_type": "markdown",
   "metadata": {},
   "source": [
    "Additionally, nothing is requiring you to return the object in the collection.  You can return different properties and values by changing up the `select` clause:"
   ]
  },
  {
   "cell_type": "code",
   "execution_count": 5,
   "metadata": {},
   "outputs": [
    {
     "data": {
      "text/html": [
       "<table><thead><tr><th><i>index</i></th><th>value</th></tr></thead><tbody><tr><td>0</td><td><div class=\"dni-plaintext\">A</div></td></tr><tr><td>1</td><td><div class=\"dni-plaintext\">K</div></td></tr><tr><td>2</td><td><div class=\"dni-plaintext\">J</div></td></tr><tr><td>3</td><td><div class=\"dni-plaintext\">Q</div></td></tr></tbody></table>"
      ]
     },
     "execution_count": 5,
     "metadata": {},
     "output_type": "execute_result"
    }
   ],
   "source": [
    "var results = from card in TheDeck\n",
    "              where card.Suit == \"h\" && card.RankValue > 10\n",
    "              select card.Rank;\n",
    "              \n",
    "results              "
   ]
  },
  {
   "cell_type": "markdown",
   "metadata": {},
   "source": [
    "### Grouping data with the Group clause\n",
    "\n",
    "Data in your query can be grouped together using the [group clause](https://docs.microsoft.com/dotnet/csharp/language-reference/keywords/group-clause?WT.mc_id=visualstudio-twitch-jefritz).  The `group` clause can be used in place of the `select` clause or can be used with the `select` clause to aggregate data in various groupings.  Let's try using the `group` keywords"
   ]
  },
  {
   "cell_type": "code",
   "execution_count": 6,
   "metadata": {},
   "outputs": [
    {
     "data": {
      "text/html": [
       "<span><a href=\"https://docs.microsoft.com/dotnet/api/system.linq.groupedenumerable-2?view=netcore-3.0\">System.Linq.GroupedEnumerable&lt;Submission#4+Card,System.String&gt;</a></span>"
      ]
     },
     "metadata": {},
     "output_type": "display_data"
    },
    {
     "data": {
      "text/html": [
       "<table><thead><tr><th><i>index</i></th><th>value</th></tr></thead><tbody><tr><td>0</td><td><div class=\"dni-plaintext\">[ 10-s, 3-s, 6-s, 5-s, K-s, Q-s, 2-s, 4-s, 7-s, J-s, 9-s, 8-s, A-s ]</div></td></tr><tr><td>1</td><td><div class=\"dni-plaintext\">[ 4-d, 5-d, 2-d, 10-d, Q-d, 3-d, J-d, 7-d, 9-d, K-d, A-d, 8-d, 6-d ]</div></td></tr><tr><td>2</td><td><div class=\"dni-plaintext\">[ 4-c, K-c, 6-c, 5-c, A-c, 9-c, 10-c, 3-c, 8-c, 7-c, Q-c, J-c, 2-c ]</div></td></tr><tr><td>3</td><td><div class=\"dni-plaintext\">[ A-h, 10-h, K-h, J-h, 4-h, 7-h, 2-h, Q-h, 5-h, 9-h, 8-h, 3-h, 6-h ]</div></td></tr></tbody></table>"
      ]
     },
     "execution_count": 6,
     "metadata": {},
     "output_type": "execute_result"
    }
   ],
   "source": [
    "var results = from card in TheDeck\n",
    "              group card by card.Suit;\n",
    "\n",
    "display(results.GetType());\n",
    "results"
   ]
  },
  {
   "cell_type": "markdown",
   "metadata": {},
   "source": [
    "Interestingly, we are returned a collection with all of the cards grouped by their suits.  If we also wanted to select the suit and create a grouped result we could expand our query like this:"
   ]
  },
  {
   "cell_type": "code",
   "execution_count": 7,
   "metadata": {},
   "outputs": [
    {
     "data": {
      "text/html": [
       "<table><thead><tr><th><i>index</i></th><th>TheSuit</th><th>suit</th></tr></thead><tbody><tr><td>0</td><td><div class=\"dni-plaintext\">s</div></td><td><div class=\"dni-plaintext\">[ 10-s, 3-s, 6-s, 5-s, K-s, Q-s, 2-s, 4-s, 7-s, J-s, 9-s, 8-s, A-s ]</div></td></tr><tr><td>1</td><td><div class=\"dni-plaintext\">d</div></td><td><div class=\"dni-plaintext\">[ 4-d, 5-d, 2-d, 10-d, Q-d, 3-d, J-d, 7-d, 9-d, K-d, A-d, 8-d, 6-d ]</div></td></tr><tr><td>2</td><td><div class=\"dni-plaintext\">c</div></td><td><div class=\"dni-plaintext\">[ 4-c, K-c, 6-c, 5-c, A-c, 9-c, 10-c, 3-c, 8-c, 7-c, Q-c, J-c, 2-c ]</div></td></tr><tr><td>3</td><td><div class=\"dni-plaintext\">h</div></td><td><div class=\"dni-plaintext\">[ A-h, 10-h, K-h, J-h, 4-h, 7-h, 2-h, Q-h, 5-h, 9-h, 8-h, 3-h, 6-h ]</div></td></tr></tbody></table>"
      ]
     },
     "execution_count": 7,
     "metadata": {},
     "output_type": "execute_result"
    }
   ],
   "source": [
    "var results = from card in TheDeck\n",
    "              group card by card.Suit into suit\n",
    "              select new {TheSuit=suit.Key, suit};\n",
    "\n",
    "results"
   ]
  },
  {
   "cell_type": "markdown",
   "metadata": {},
   "source": [
    "<img src=\"img/facecards.png\" align=\"right\">\n",
    "\n",
    "Now this is **VERY INTERESTING** we have created an [Anonymous Type](https://docs.microsoft.com/dotnet/csharp/programming-guide/classes-and-structs/anonymous-types?WT.mc_id=visualstudio-twitch-jefritz), a type on the fly that contains a string field for `TheSuit` and a collection of `Card` objects in a field called `suit`.  We'll get more into **Anonymous Types** next week, but you need to know that you can use the `new` keyword with curly braces `{ }` to create a type and make it available in your code.  Many C# veterans will recommend against exposing the anonymous type outside of the method it is created in and instead suggest creating a concrete type to return in that `select` clause.\n",
    "\n",
    "Our groupings can take some interesting calculations.  Let's write a grouping for all of the face cards (and the Ace too):"
   ]
  },
  {
   "cell_type": "code",
   "execution_count": 8,
   "metadata": {},
   "outputs": [
    {
     "data": {
      "text/html": [
       "<table><thead><tr><th><i>index</i></th><th>TheSuit</th><th>facecards</th></tr></thead><tbody><tr><td>0</td><td><div class=\"dni-plaintext\">False</div></td><td><div class=\"dni-plaintext\">[ 10-s, 4-d, 3-s, 4-c, 6-s, 5-s, 5-d, 2-d, 6-c, 5-c, 10-h, 2-s, 10-d, 3-d, 9-c, 4-h, 4-s, 7-s, 7-h, 10-c ... (16 more) ]</div></td></tr><tr><td>1</td><td><div class=\"dni-plaintext\">True</div></td><td><div class=\"dni-plaintext\">[ K-c, K-s, A-h, Q-s, Q-d, K-h, A-c, J-h, Q-h, J-s, Q-c, J-d, J-c, K-d, A-d, A-s ]</div></td></tr></tbody></table>"
      ]
     },
     "execution_count": 8,
     "metadata": {},
     "output_type": "execute_result"
    }
   ],
   "source": [
    "var results = from card in TheDeck\n",
    "              group card by card.RankValue > 10 into facecards\n",
    "              select new {TheSuit=facecards.Key, facecards};\n",
    "\n",
    "results"
   ]
  },
  {
   "cell_type": "markdown",
   "metadata": {},
   "source": [
    "That looks strange, but we have two groups:  1 group that are the numeric cards and a second group that are the face cards.  Let's tinker with that method a little more:"
   ]
  },
  {
   "cell_type": "code",
   "execution_count": 9,
   "metadata": {},
   "outputs": [
    {
     "data": {
      "text/html": [
       "<table><thead><tr><th><i>index</i></th><th>Face</th><th>facecards</th></tr></thead><tbody><tr><td>0</td><td><div class=\"dni-plaintext\">K</div></td><td><div class=\"dni-plaintext\">[ K-c, K-s, K-h, K-d ]</div></td></tr><tr><td>1</td><td><div class=\"dni-plaintext\">A</div></td><td><div class=\"dni-plaintext\">[ A-h, A-c, A-d, A-s ]</div></td></tr><tr><td>2</td><td><div class=\"dni-plaintext\">Q</div></td><td><div class=\"dni-plaintext\">[ Q-s, Q-d, Q-h, Q-c ]</div></td></tr><tr><td>3</td><td><div class=\"dni-plaintext\">J</div></td><td><div class=\"dni-plaintext\">[ J-h, J-s, J-d, J-c ]</div></td></tr></tbody></table>"
      ]
     },
     "execution_count": 9,
     "metadata": {},
     "output_type": "execute_result"
    }
   ],
   "source": [
    "var results = from card in TheDeck\n",
    "              where card.RankValue > 10\n",
    "              group card by card.Rank into facecards\n",
    "              select new {Face=facecards.Key, facecards};\n",
    "\n",
    "results"
   ]
  },
  {
   "cell_type": "markdown",
   "metadata": {},
   "source": [
    "Now this sets up for a simplified **Sam the Bellhop** classic card trick.  Take a few minutes and enjoy magician and former Philadelphia Eagles player [Jon Dorenbos performing this trick](https://www.youtube.com/watch?v=fwKPDrtgXRs) where he sorts and finds cards while telling the story of Sam the Bellhop."
   ]
  },
  {
   "cell_type": "markdown",
   "metadata": {},
   "source": [
    "## Loading data from CSV\n",
    "\n",
    "We've worked with objects and data that we've specified here in the notebook. Let's use an external library, in .NET we call them **NuGet Packages** from www.nuget.org called [LINQtoCSV](https://www.nuget.org/packages/LinqToCsv/) to load Atlantic Hurricane Season data (courtesy of [Wikipedia](https://en.wikipedia.org/wiki/Atlantic_hurricane_season))."
   ]
  },
  {
   "cell_type": "code",
   "execution_count": 10,
   "metadata": {},
   "outputs": [
    {
     "data": {
      "text/plain": [
       "Installed package LinqToCsv version 1.5.0"
      ]
     },
     "metadata": {},
     "output_type": "display_data"
    },
    {
     "data": {
      "text/html": [
       "<table><thead><tr><th><i>index</i></th><th>Year</th><th>TropicalStormCount</th><th>HurricaneCount</th><th>MajorHurricaneCount</th><th>ACE</th><th>Deaths</th><th>StrongestStorm</th><th>DamageUSD</th><th>RetiredNames</th><th>Notes</th></tr></thead><tbody><tr><td>0</td><td><div class=\"dni-plaintext\">2020</div></td><td><div class=\"dni-plaintext\">23</div></td><td><div class=\"dni-plaintext\">8</div></td><td><div class=\"dni-plaintext\">2</div></td><td><div class=\"dni-plaintext\">93.53</div></td><td><div class=\"dni-plaintext\">135</div></td><td><div class=\"dni-plaintext\">Laura</div></td><td><div class=\"dni-plaintext\">&gt;$22.245 billion</div></td><td><div class=\"dni-plaintext\">TBD</div></td><td><div class=\"dni-plaintext\">Record-breaking 6th straight season with two pre-season storms. (Arthur and Bertha). \r\n",
       "Holds the record for the earliest formation date for most named storms.\r\n",
       "Record-tying 2 named storms in May.\r\n",
       "Record-tying 5 named storms in July. Record-breaking 6 tropical depressions in July.\r\n",
       "First season on record to have 9 tropical storms form before August.\r\n",
       "First season on record to have 13 tropical storms form before September.\r\n",
       "First season on record to have 18 or more tropical storms form before October.\r\n",
       "One of only two seasons to use the Greek Alphabet, with the other being 2005.\r\n",
       "Easternmost forming Atlantic tropical/subtropical cyclone on record. (Alpha)</div></td></tr><tr><td>1</td><td><div class=\"dni-plaintext\">2019</div></td><td><div class=\"dni-plaintext\">18</div></td><td><div class=\"dni-plaintext\">6</div></td><td><div class=\"dni-plaintext\">3</div></td><td><div class=\"dni-plaintext\">132.20</div></td><td><div class=\"dni-plaintext\">107</div></td><td><div class=\"dni-plaintext\">Dorian</div></td><td><div class=\"dni-plaintext\">≥ $11.12 billion</div></td><td><div class=\"dni-plaintext\">TBD</div></td><td><div class=\"dni-plaintext\">Record fifth consecutive season for a storm to develop before the official start (Andrea).\r\n",
       "Includes two subtropical storms (Andrea and Rebekah).\r\n",
       "Dorian and Lorenzo in 2019 became two of six Category 5 storms in four years, the others being Matthew, Irma and Maria, and Michael, the most consecutive years with Category 5 storms on record.\r\n",
       "Features record-breaking easternmost Category 5 hurricane (Lorenzo).</div></td></tr><tr><td>2</td><td><div class=\"dni-plaintext\">2018</div></td><td><div class=\"dni-plaintext\">15</div></td><td><div class=\"dni-plaintext\">8</div></td><td><div class=\"dni-plaintext\">2</div></td><td><div class=\"dni-plaintext\">132.58</div></td><td><div class=\"dni-plaintext\">175</div></td><td><div class=\"dni-plaintext\">Michael</div></td><td><div class=\"dni-plaintext\">≥ $50.205 billion</div></td><td><div class=\"dni-plaintext\">Florence, Michael</div></td><td><div class=\"dni-plaintext\">Includes a record seven storms that were subtropical at one point (Alberto, Beryl, Debby, Ernesto, Joyce, Leslie, and Oscar)\r\n",
       "Fourth consecutive season for a storm to develop before the official start (Alberto)\r\n",
       "The first season on record to have a Category 5 hurricane present in the Atlantic and Pacific Ocean (Michael, followed by Lane, Walaka, and Willa)</div></td></tr><tr><td>3</td><td><div class=\"dni-plaintext\">2017</div></td><td><div class=\"dni-plaintext\">17</div></td><td><div class=\"dni-plaintext\">10</div></td><td><div class=\"dni-plaintext\">6</div></td><td><div class=\"dni-plaintext\">224.88</div></td><td><div class=\"dni-plaintext\">3363</div></td><td><div class=\"dni-plaintext\">Maria</div></td><td><div class=\"dni-plaintext\">≥ $294.67 billion</div></td><td><div class=\"dni-plaintext\">Harvey, Irma, Maria, Nate</div></td><td><div class=\"dni-plaintext\">Costliest hurricane season on record (US$294.67 Billion)\r\n",
       "First April system (Arlene) since 2003 (Ana)\r\n",
       "Earliest Main Development Region named storm on record (Bret)\r\n",
       "First U.S. major hurricane landfall since Wilma in 2005 (Harvey)\r\n",
       "Highest rainfall produced by a tropical cyclone in the United States and its territories (Harvey)\r\n",
       "First-ever three Category 4 U.S. hurricane landfalls in a single season (Harvey, Irma, and Maria)\r\n",
       "Second season to feature multiple Category 5 landfalls after 2007 (Irma and Maria after Dean and Felix)\r\n",
       "Only one of four seasons to produce ten hurricanes in a row (Franklin through Ophelia)\r\n",
       "Only season on record with three hurricanes with an ACE value over 40 (Irma, Jose, and Maria)\r\n",
       "Most ACE produced in a single month in Atlantic basin (September, caused by Irma through Maria)\r\n",
       "Easternmost Major hurricane on record (Ophelia)</div></td></tr><tr><td>4</td><td><div class=\"dni-plaintext\">2016</div></td><td><div class=\"dni-plaintext\">15</div></td><td><div class=\"dni-plaintext\">7</div></td><td><div class=\"dni-plaintext\">4</div></td><td><div class=\"dni-plaintext\">141.25</div></td><td><div class=\"dni-plaintext\">748</div></td><td><div class=\"dni-plaintext\">Matthew</div></td><td><div class=\"dni-plaintext\">≥ $17.49 billion</div></td><td><div class=\"dni-plaintext\">Matthew, Otto</div></td><td><div class=\"dni-plaintext\">Earliest start since 1951 (January 12, since January 4)\r\n",
       "Record for earliest formation of 4th named storm (Danielle)\r\n",
       "Tied (with 2012 and 2020) for most active season before July (Alex through Danielle)\r\n",
       "Includes southernmost Category 5 on record, and the first since 2007 (Matthew, since Felix)\r\n",
       "First hurricane in 20 years to cross Central America into the Eastern Pacific basin (Otto)</div></td></tr><tr><td>5</td><td><div class=\"dni-plaintext\">2015</div></td><td><div class=\"dni-plaintext\">11</div></td><td><div class=\"dni-plaintext\">4</div></td><td><div class=\"dni-plaintext\">2</div></td><td><div class=\"dni-plaintext\">62.69</div></td><td><div class=\"dni-plaintext\">89</div></td><td><div class=\"dni-plaintext\">Joaquin</div></td><td><div class=\"dni-plaintext\">$813.9 million</div></td><td><div class=\"dni-plaintext\">Erika, Joaquin</div></td><td><div class=\"dni-plaintext\">&lt;null&gt;</div></td></tr><tr><td>6</td><td><div class=\"dni-plaintext\">2014</div></td><td><div class=\"dni-plaintext\">8</div></td><td><div class=\"dni-plaintext\">6</div></td><td><div class=\"dni-plaintext\">2</div></td><td><div class=\"dni-plaintext\">66.73</div></td><td><div class=\"dni-plaintext\">21</div></td><td><div class=\"dni-plaintext\">Gonzalo</div></td><td><div class=\"dni-plaintext\">$371.6 million</div></td><td><div class=\"dni-plaintext\">None</div></td><td><div class=\"dni-plaintext\">&lt;null&gt;</div></td></tr><tr><td>7</td><td><div class=\"dni-plaintext\">2013</div></td><td><div class=\"dni-plaintext\">14</div></td><td><div class=\"dni-plaintext\">2</div></td><td><div class=\"dni-plaintext\">0</div></td><td><div class=\"dni-plaintext\">36.12</div></td><td><div class=\"dni-plaintext\">54</div></td><td><div class=\"dni-plaintext\">Humberto</div></td><td><div class=\"dni-plaintext\">$1.512 billion</div></td><td><div class=\"dni-plaintext\">Ingrid</div></td><td><div class=\"dni-plaintext\">Includes one subtropical storm (Unnamed December SS [14L])\r\n",
       "No major hurricanes, nor Category 2 hurricanes\r\n",
       "Tied (with 1982) for fewest hurricanes since 1930 (Humberto and Ingrid, a tie with Alberto and Debby in 1982)</div></td></tr><tr><td>8</td><td><div class=\"dni-plaintext\">2012</div></td><td><div class=\"dni-plaintext\">19</div></td><td><div class=\"dni-plaintext\">10</div></td><td><div class=\"dni-plaintext\">2</div></td><td><div class=\"dni-plaintext\">132.63</div></td><td><div class=\"dni-plaintext\">302</div></td><td><div class=\"dni-plaintext\">Sandy</div></td><td><div class=\"dni-plaintext\">$72.32 billion</div></td><td><div class=\"dni-plaintext\">Sandy</div></td><td><div class=\"dni-plaintext\">Tied for third most active season (with 1887, 1995, 2010, 2011, and 2020)\r\n",
       "Tied (with 2016 and 2020) for most active season before July (Alberto through Debby)\r\n",
       "Record tying 8 named storms forming in August (Ernesto through Leslie [Leslie spanned most of September])</div></td></tr><tr><td>9</td><td><div class=\"dni-plaintext\">2011</div></td><td><div class=\"dni-plaintext\">19</div></td><td><div class=\"dni-plaintext\">7</div></td><td><div class=\"dni-plaintext\">4</div></td><td><div class=\"dni-plaintext\">126.30</div></td><td><div class=\"dni-plaintext\">112</div></td><td><div class=\"dni-plaintext\">Ophelia</div></td><td><div class=\"dni-plaintext\">$17.4&#160;billion</div></td><td><div class=\"dni-plaintext\">Irene</div></td><td><div class=\"dni-plaintext\">Tied for third most active season on record (with 1887, 1995, 2010, 2012, and 2020)</div></td></tr></tbody></table>"
      ]
     },
     "metadata": {},
     "output_type": "display_data"
    }
   ],
   "source": [
    "#r \"nuget:LinqToCsv\"\n",
    "using LINQtoCSV;\n",
    "\n",
    "class MyDataRow { \n",
    "    [CsvColumn(Name = \"Year\", FieldIndex = 1)]\n",
    "    public int Year {get; set;}\n",
    "    [CsvColumn(Name = \"Number of tropical storms\", FieldIndex = 2)]\n",
    "    public byte TropicalStormCount { get; set;}\n",
    "    [CsvColumn(Name = \"Number of hurricanes\", FieldIndex = 3)]\n",
    "    public byte HurricaneCount { get; set;}\n",
    "    [CsvColumn(Name = \"Number of major hurricanes\", FieldIndex = 4)]\n",
    "    public byte MajorHurricaneCount { get; set;}\n",
    "    \n",
    "    // Accumulated Cyclone Energy\n",
    "    [CsvColumn(Name = \"ACE\", FieldIndex = 5)]\n",
    "    public decimal ACE { get; set; }\n",
    "    \n",
    "    [CsvColumn(Name = \"Deaths\", FieldIndex = 6)]\n",
    "    public int Deaths { get; set; }\n",
    "\n",
    "    [CsvColumn(Name=\"Strongest storm\", FieldIndex = 7)]\n",
    "    public string StrongestStorm { get; set; }\n",
    "    \n",
    "    [CsvColumn(Name = \"Damage USD\", FieldIndex = 8)]\n",
    "    public string DamageUSD { get; set; }\n",
    "\n",
    "    [CsvColumn(Name = \"Retired names\", FieldIndex = 9)]\n",
    "    public string RetiredNames { get; set; }\n",
    "\n",
    "    [CsvColumn(Name = \"Notes\", FieldIndex = 10)]\n",
    "    public string Notes { get; set; }\n",
    "\n",
    "    \n",
    "}\n",
    "var inputFileDescription = new CsvFileDescription\n",
    "{\n",
    "    SeparatorChar = ',', \n",
    "    FirstLineHasColumnNames = true\n",
    "};\n",
    "var context = new CsvContext();\n",
    "var hurricanes = context.Read<MyDataRow>(\"data/atlantic_hurricanes.csv\", inputFileDescription);\n",
    "display(hurricanes.OrderByDescending(h => h.Year).Take(10));"
   ]
  },
  {
   "cell_type": "code",
   "execution_count": 11,
   "metadata": {},
   "outputs": [],
   "source": [
    "//var results = "
   ]
  },
  {
   "cell_type": "markdown",
   "metadata": {},
   "source": [
    "## Extension Methods\n",
    "\n",
    "[Extension Methods](https://docs.microsoft.com/dotnet/csharp/programming-guide/classes-and-structs/extension-methods?WT.mc_id=visualstudio-twitch-jefritz) are a way to extend the functionality of a type without modifying the existing type.  You don't even need access to the original type's source code to add on a feature to the type.  We've seen examples of extension methods in use with the various predicate methods in the LINQ to Objects discussion above.  The `FritzSet<T>` object did not have all of the query interaction methods writte on it, but they were available to manipulate the collection.\n",
    "\n",
    "To create our own extension methods, you create them in a `static class` as methods with a signature where the first argument is prefixed by `this` to indicate the type being amended.\n",
    "\n",
    "```csharp\n",
    "static class CardExtensions {\n",
    "    \n",
    "    public static string ToFormattedValue(this Card theCard) {\n",
    "        \n",
    "        var outSuit = theCard.Suit == \"c\" ? \"♣\" : theCard.Suit == \"d\" ? \"♦\" : theCard.Suit == \"h\" ? \"♥\" : \"♠\";\n",
    "        return theCard.Rank + outSuit;\n",
    "        \n",
    "    }\n",
    "    \n",
    "}\n",
    "```"
   ]
  }
 ],
 "metadata": {
  "kernelspec": {
   "display_name": ".NET (C#)",
   "language": "C#",
   "name": ".net-csharp"
  },
  "language_info": {
   "file_extension": ".cs",
   "mimetype": "text/x-csharp",
   "name": "C#",
   "pygments_lexer": "csharp",
   "version": "8.0"
  }
 },
 "nbformat": 4,
 "nbformat_minor": 4
}
