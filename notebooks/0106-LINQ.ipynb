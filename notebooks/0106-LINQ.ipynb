{
 "cells": [
  {
   "cell_type": "markdown",
   "metadata": {},
   "source": [
    "# Session 6: LINQ and Extension Methods\n",
    "\n",
    "[LINQ (Language Integrated Query)](https://docs.microsoft.com/en-us/dotnet/csharp/programming-guide/concepts/linq/?WT.mc_id=visualstudio-twitch-jefritz) is a collection of methods and language features that allow you to interact with collections of data.  In our last session, we focused on **LINQ to Objects** which allows us to use method predicates to interact with those collections.\n",
    "\n",
    "Let's setup our `Card` class and `FritzSet` collection object to work with again in this workbook"
   ]
  },
  {
   "cell_type": "code",
   "execution_count": 43,
   "metadata": {
    "jupyter": {
     "source_hidden": true
    }
   },
   "outputs": [],
   "source": [
    "class Card {\n",
    "    public Card(string def) {\n",
    "        var values = def.Split('-');\n",
    "        Rank = values[0];\n",
    "        Suit = values[1];\n",
    "    }\n",
    "    public string Rank;\n",
    "    public int RankValue { \n",
    "        get { \n",
    "            var faceCards = new Dictionary<string,int> { {\"J\", 11}, {\"Q\", 12}, {\"K\", 13}, {\"A\", 14} };\n",
    "            return faceCards.ContainsKey(Rank) ? faceCards[Rank] : int.Parse(Rank); \n",
    "        }\n",
    "    }\n",
    "    public string Suit;\n",
    "    public override string ToString() {\n",
    "        return $\"{Rank}-{Suit}\";\n",
    "    }\n",
    "    public static implicit operator Card(string id) {\n",
    "        return new Card(id);\n",
    "    }\n",
    "}\n",
    "\n",
    "class FritzSet<T> : IEnumerable<T> {\n",
    "\n",
    "    private List<T> _Inner = new List<T>();\n",
    "\n",
    "    public IEnumerator<T> GetEnumerator()\n",
    "    {\n",
    "        return _Inner.GetEnumerator();\n",
    "    }\n",
    "\n",
    "    IEnumerator IEnumerable.GetEnumerator()\n",
    "    {\n",
    "        return _Inner.GetEnumerator();\n",
    "    }\n",
    "\n",
    "    public void Add(T newItem) {\n",
    "        var insertAt = _Inner.Count == 0 ? 0 : new Random().Next(0,_Inner.Count+1);\n",
    "        _Inner.Insert(insertAt, newItem);\n",
    "    }\n",
    "    \n",
    "    public FritzSet<T> Shuffle() {\n",
    "        _Inner = _Inner.OrderBy(_ => Guid.NewGuid()).ToList();\n",
    "        return this;\n",
    "    }\n",
    "    \n",
    "}\n",
    "\n",
    "var TheDeck = new FritzSet<Card>();\n",
    "TheDeck.Add(\"A-c\");TheDeck.Add(\"A-d\");TheDeck.Add(\"A-h\");TheDeck.Add(\"A-s\");TheDeck.Add(\"2-c\");TheDeck.Add(\"2-d\");TheDeck.Add(\"2-h\");TheDeck.Add(\"2-s\");TheDeck.Add(\"3-c\");TheDeck.Add(\"3-d\");TheDeck.Add(\"3-h\");TheDeck.Add(\"3-s\");TheDeck.Add(\"4-c\");TheDeck.Add(\"4-d\");TheDeck.Add(\"4-h\");TheDeck.Add(\"4-s\");\n",
    "TheDeck.Add(\"5-c\");TheDeck.Add(\"5-d\");TheDeck.Add(\"5-h\");TheDeck.Add(\"5-s\");TheDeck.Add(\"6-c\");TheDeck.Add(\"6-d\");TheDeck.Add(\"6-h\");TheDeck.Add(\"6-s\");TheDeck.Add(\"7-c\");TheDeck.Add(\"7-d\");TheDeck.Add(\"7-h\");TheDeck.Add(\"7-s\");TheDeck.Add(\"8-c\");TheDeck.Add(\"8-d\");TheDeck.Add(\"8-h\");TheDeck.Add(\"8-s\");\n",
    "TheDeck.Add(\"9-c\");TheDeck.Add(\"9-d\");TheDeck.Add(\"9-h\");TheDeck.Add(\"9-s\");TheDeck.Add(\"10-c\");TheDeck.Add(\"10-d\");TheDeck.Add(\"10-h\");TheDeck.Add(\"10-s\");TheDeck.Add(\"J-c\");TheDeck.Add(\"J-d\");TheDeck.Add(\"J-h\");TheDeck.Add(\"J-s\");\n",
    "TheDeck.Add(\"Q-c\");TheDeck.Add(\"Q-d\");TheDeck.Add(\"Q-h\");TheDeck.Add(\"Q-s\");TheDeck.Add(\"K-c\");TheDeck.Add(\"K-d\");TheDeck.Add(\"K-h\");TheDeck.Add(\"K-s\");\n",
    "\n",
    "// TheDeck\n",
    "TheDeck.Shuffle().Shuffle().Shuffle().Shuffle().Shuffle();\n",
    "//TheDeck"
   ]
  },
  {
   "cell_type": "markdown",
   "metadata": {},
   "source": [
    "In review, we can write a little bit of code to work with this collection to deal cards appropriately for a Texas Hold 'em poker game:"
   ]
  },
  {
   "cell_type": "code",
   "execution_count": 49,
   "metadata": {},
   "outputs": [
    {
     "data": {
      "text/html": [
       "<table><thead><tr><th><i>index</i></th><th>RankValue</th><th>Rank</th><th>Suit</th></tr></thead><tbody><tr><td>0</td><td>14</td><td>A</td><td>c</td></tr><tr><td>1</td><td>13</td><td>K</td><td>h</td></tr></tbody></table>"
      ]
     },
     "metadata": {},
     "output_type": "display_data"
    },
    {
     "data": {
      "text/html": [
       "<table><thead><tr><th><i>index</i></th><th>RankValue</th><th>Rank</th><th>Suit</th></tr></thead><tbody><tr><td>0</td><td>14</td><td>A</td><td>s</td></tr><tr><td>1</td><td>13</td><td>K</td><td>d</td></tr></tbody></table>"
      ]
     },
     "metadata": {},
     "output_type": "display_data"
    },
    {
     "data": {
      "text/html": [
       "<table><thead><tr><th><i>index</i></th><th>RankValue</th><th>Rank</th><th>Suit</th></tr></thead><tbody><tr><td>0</td><td>14</td><td>A</td><td>d</td></tr><tr><td>1</td><td>13</td><td>K</td><td>s</td></tr></tbody></table>"
      ]
     },
     "metadata": {},
     "output_type": "display_data"
    },
    {
     "data": {
      "text/html": [
       "<table><thead><tr><th><i>index</i></th><th>RankValue</th><th>Rank</th><th>Suit</th></tr></thead><tbody><tr><td>0</td><td>12</td><td>Q</td><td>d</td></tr><tr><td>1</td><td>12</td><td>Q</td><td>s</td></tr><tr><td>2</td><td>12</td><td>Q</td><td>c</td></tr></tbody></table>"
      ]
     },
     "metadata": {},
     "output_type": "display_data"
    },
    {
     "data": {
      "text/html": [
       "<table><thead><tr><th>RankValue</th><th>Rank</th><th>Suit</th></tr></thead><tbody><tr><td>12</td><td>Q</td><td>c</td></tr></tbody></table>"
      ]
     },
     "metadata": {},
     "output_type": "display_data"
    },
    {
     "data": {
      "text/html": [
       "<table><thead><tr><th>RankValue</th><th>Rank</th><th>Suit</th></tr></thead><tbody><tr><td>11</td><td>J</td><td>d</td></tr></tbody></table>"
      ]
     },
     "metadata": {},
     "output_type": "display_data"
    }
   ],
   "source": [
    "var ourDeck = TheDeck.Shuffle().Shuffle();\n",
    "\n",
    "var hand1 = new List<Card>();\n",
    "var hand2 = new List<Card>();\n",
    "var hand3 = new List<Card>();\n",
    "hand1.Add(ourDeck.Skip(1).First());\n",
    "hand2.Add(ourDeck.Skip(2).First());\n",
    "hand3.Add(ourDeck.Skip(3).First());\n",
    "hand1.Add(ourDeck.Skip(4).First());\n",
    "hand2.Add(ourDeck.Skip(5).First());\n",
    "hand3.Add(ourDeck.Skip(6).First());\n",
    "\n",
    "display(hand1);\n",
    "display(hand2);\n",
    "display(hand3);\n",
    "\n",
    "// Burn a card and deal the next 3 cards called 'the flop'\n",
    "display(ourDeck.Skip(8).Take(3));\n",
    "    \n",
    "// Burn a card and take one card called 'the turn'\n",
    "display(ourDeck.Skip(10).First());\n",
    "\n",
    "// Burn a card and take the final card called 'the river'\n",
    "display(ourDeck.Skip(12).First());"
   ]
  }
 ],
 "metadata": {
  "kernelspec": {
   "display_name": ".NET (C#)",
   "language": "C#",
   "name": ".net-csharp"
  },
  "language_info": {
   "file_extension": ".cs",
   "mimetype": "text/x-csharp",
   "name": "C#",
   "pygments_lexer": "csharp",
   "version": "8.0"
  }
 },
 "nbformat": 4,
 "nbformat_minor": 4
}
